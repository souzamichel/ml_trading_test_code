{
  "cells": [
    {
      "cell_type": "markdown",
      "metadata": {
        "id": "view-in-github",
        "colab_type": "text"
      },
      "source": [
        "<a href=\"https://colab.research.google.com/github/souzamichel/ml_trading_test_code/blob/main/ml_trading_backtest_code.ipynb\" target=\"_parent\"><img src=\"https://colab.research.google.com/assets/colab-badge.svg\" alt=\"Open In Colab\"/></a>"
      ]
    },
    {
      "cell_type": "code",
      "source": [
        "import numpy as np\n",
        "import pandas as pd\n",
        "import yfinance as yf\n",
        "from sklearn.ensemble import RandomForestClassifier\n",
        "from itertools import product"
      ],
      "metadata": {
        "id": "ry-woJxXYV3h"
      },
      "execution_count": 10,
      "outputs": []
    },
    {
      "cell_type": "code",
      "source": [
        "# Função para calcular RSI\n",
        "def compute_rsi(series, period=14):\n",
        "    delta    = series.diff()\n",
        "    gain     = delta.clip(lower=0)\n",
        "    loss     = -delta.clip(upper=0)\n",
        "    avg_gain = gain.rolling(period).mean()\n",
        "    avg_loss = loss.rolling(period).mean()\n",
        "    rs       = avg_gain / avg_loss\n",
        "    return 100 - (100 / (1 + rs))"
      ],
      "metadata": {
        "id": "Vg0ti4XpYdsi"
      },
      "execution_count": 11,
      "outputs": []
    },
    {
      "cell_type": "code",
      "source": [
        "# Métricas adicionais\n",
        "def calculate_metrics(returns):\n",
        "    cumulative = (1 + returns).cumprod() - 1\n",
        "    total_ret  = cumulative.iloc[-1]\n",
        "    ann_vol    = returns.std() * np.sqrt(252)\n",
        "    sharpe     = returns.mean() / returns.std() * np.sqrt(252) if returns.std() else 0.0\n",
        "\n",
        "    # Drawdown máximo\n",
        "    running_max    = cumulative.cummax()\n",
        "    drawdown       = cumulative - running_max\n",
        "    max_drawdown   = drawdown.min()\n",
        "\n",
        "    # Fator de recuperação\n",
        "    recovery = total_ret / abs(max_drawdown) if max_drawdown < 0 else np.nan\n",
        "\n",
        "    # Win rate\n",
        "    win_rate = (returns > 0).sum() / len(returns)\n",
        "\n",
        "    return {\n",
        "        \"Cumulative Return\": total_ret,\n",
        "        \"Volatility\": ann_vol,\n",
        "        \"Sharpe\": sharpe,\n",
        "        \"Max Drawdown\": max_drawdown,\n",
        "        \"Recovery Factor\": recovery,\n",
        "        \"Win Rate\": win_rate\n",
        "    }"
      ],
      "metadata": {
        "id": "buwdcbuvYnfS"
      },
      "execution_count": 12,
      "outputs": []
    },
    {
      "cell_type": "code",
      "source": [
        "# Grades de parâmetros\n",
        "param_grid = {\n",
        "    \"ma_short\":   [5, 10, 15],\n",
        "    \"ma_long\":    [10, 20, 30],\n",
        "    \"rsi_period\": [14, 21],\n",
        "    \"mom_period\": [5, 10, 20]\n",
        "}\n",
        "rf_grid = {\n",
        "    \"n_estimators\": [50, 100],\n",
        "    \"max_depth\":    [None, 5, 10]\n",
        "}\n",
        "\n",
        "def combos(grid):\n",
        "    for vals in product(*grid.values()):\n",
        "        yield dict(zip(grid.keys(), vals))"
      ],
      "metadata": {
        "id": "j2UwRszyXj49"
      },
      "execution_count": 13,
      "outputs": []
    },
    {
      "cell_type": "code",
      "source": [
        "# Download de dados\n",
        "symbol = \"AAPL\"\n",
        "data = yf.download(symbol, period=\"5y\", interval=\"1d\",\n",
        "                   auto_adjust=True, progress=False)\n",
        "\n",
        "results = []"
      ],
      "metadata": {
        "collapsed": true,
        "id": "FWFK_dY3YFXm"
      },
      "execution_count": 14,
      "outputs": []
    },
    {
      "cell_type": "code",
      "source": [
        "\n",
        "# Laço de backtest\n",
        "for ind in combos(param_grid):\n",
        "    df = data.copy()\n",
        "    # Indicadores\n",
        "    df[\"MA_short\"] = df[\"Close\"].rolling(ind[\"ma_short\"]).mean()\n",
        "    df[\"MA_long\"]  = df[\"Close\"].rolling(ind[\"ma_long\"]).mean()\n",
        "    df[\"RSI\"]      = compute_rsi(df[\"Close\"], ind[\"rsi_period\"])\n",
        "    df[\"Mom\"]      = df[\"Close\"].pct_change(ind[\"mom_period\"])\n",
        "    df.dropna(inplace=True)\n",
        "\n",
        "    # Retorno diário\n",
        "    df[\"Return\"] = df[\"Close\"].pct_change()\n",
        "    df.dropna(inplace=True)\n",
        "\n",
        "    # Target binário\n",
        "    fut = df[\"Close\"].pct_change().shift(-1)\n",
        "    df[\"Target\"] = (fut > 0).astype(int)\n",
        "    df.dropna(inplace=True)\n",
        "\n",
        "    X   = df[[\"MA_short\",\"MA_long\",\"RSI\",\"Mom\"]]\n",
        "    y   = df[\"Target\"]\n",
        "    ret = df[\"Return\"]\n",
        "\n",
        "    split = int(len(df) * 0.8)\n",
        "    X_tr, X_te = X.iloc[:split], X.iloc[split:]\n",
        "    y_tr, y_te = y.iloc[:split], y.iloc[split:]\n",
        "    ret_te     = ret.iloc[split:]\n",
        "\n",
        "    if X_te.shape[0] < 2 or y_tr.nunique() < 2:\n",
        "        continue\n",
        "\n",
        "    for rf_params in combos(rf_grid):\n",
        "        model = RandomForestClassifier(**rf_params, random_state=42)\n",
        "        model.fit(X_tr, y_tr)\n",
        "\n",
        "        preds = model.predict(X_te)\n",
        "        df_sig = pd.DataFrame({\"signal\": preds}, index=X_te.index)\n",
        "        df_ret = pd.DataFrame({\"return\": ret_te}, index=ret_te.index)\n",
        "\n",
        "        df_test = (\n",
        "            df_sig.join(df_ret, how=\"inner\")\n",
        "                  .assign(signal=lambda d: d[\"signal\"].shift(1, fill_value=0))\n",
        "        )\n",
        "        df_test[\"strat\"] = df_test[\"signal\"] * df_test[\"return\"]\n",
        "        if df_test[\"strat\"].empty:\n",
        "            continue\n",
        "\n",
        "        # Calcula métricas\n",
        "        m = calculate_metrics(df_test[\"strat\"])\n",
        "        results.append({**ind, **rf_params, **m})"
      ],
      "metadata": {
        "id": "NugLwbKiooop"
      },
      "execution_count": 15,
      "outputs": []
    },
    {
      "cell_type": "code",
      "source": [
        "# Organiza resultados\n",
        "results_df = pd.DataFrame(results)\n",
        "if results_df.empty:\n",
        "    print(\"Nenhum backtest válido encontrado.\")\n",
        "else:\n",
        "    # Top 10 por Sharpe\n",
        "    top10 = results_df.sort_values(\"Sharpe\", ascending=False).head(10)\n",
        "\n",
        "    for idx, row in top10.iterrows():\n",
        "        print(f\"\\nEstratégia #{idx+1}\")\n",
        "        print(f\"Médias: short={row['ma_short']}, long={row['ma_long']}; RSI={row['rsi_period']}, Mom={row['mom_period']}\")\n",
        "        print(f\"RandomForest: n_estimators={row['n_estimators']}, max_depth={row['max_depth']}\")\n",
        "        print(f\"Retorno Acumulado: {row['Cumulative Return']:.2%}  → mostra o ganho total da estratégia.\")\n",
        "        print(f\"Volatilidade Anual: {row['Volatility']:.2%}  → risco medido em desvio padrão anualizado.\")\n",
        "        print(f\"Sharpe Ratio: {row['Sharpe']:.2f}  → retorno ajustado pelo risco.\")\n",
        "        print(f\"Drawdown Máximo: {row['Max Drawdown']:.2%}  → maior perda desde o pico ao fundo.\")\n",
        "        print(f\"Fator de Recuperação: {row['Recovery Factor']:.2f}  → relação entre retorno total e drawdown máximo.\")\n",
        "        print(f\"Win Rate: {row['Win Rate']:.2%}  → proporção de trades vencedores.\")"
      ],
      "metadata": {
        "collapsed": true,
        "id": "RhP1t0cMorlS",
        "outputId": "3245a491-615a-493a-b6eb-782e61ead810",
        "colab": {
          "base_uri": "https://localhost:8080/"
        }
      },
      "execution_count": 16,
      "outputs": [
        {
          "output_type": "stream",
          "name": "stdout",
          "text": [
            "\n",
            "Estratégia #75\n",
            "Médias: short=5.0, long=30.0; RSI=14.0, Mom=5.0\n",
            "RandomForest: n_estimators=50.0, max_depth=10.0\n",
            "Retorno Acumulado: 37.46%  → mostra o ganho total da estratégia.\n",
            "Volatilidade Anual: 18.42%  → risco medido em desvio padrão anualizado.\n",
            "Sharpe Ratio: 1.86  → retorno ajustado pelo risco.\n",
            "Drawdown Máximo: -11.22%  → maior perda desde o pico ao fundo.\n",
            "Fator de Recuperação: 3.34  → relação entre retorno total e drawdown máximo.\n",
            "Win Rate: 30.08%  → proporção de trades vencedores.\n",
            "\n",
            "Estratégia #181\n",
            "Médias: short=10.0, long=30.0; RSI=14.0, Mom=5.0\n",
            "RandomForest: n_estimators=50.0, max_depth=nan\n",
            "Retorno Acumulado: 43.89%  → mostra o ganho total da estratégia.\n",
            "Volatilidade Anual: 22.61%  → risco medido em desvio padrão anualizado.\n",
            "Sharpe Ratio: 1.76  → retorno ajustado pelo risco.\n",
            "Drawdown Máximo: -12.42%  → maior perda desde o pico ao fundo.\n",
            "Fator de Recuperação: 3.53  → relação entre retorno total e drawdown máximo.\n",
            "Win Rate: 28.05%  → proporção de trades vencedores.\n",
            "\n",
            "Estratégia #182\n",
            "Médias: short=10.0, long=30.0; RSI=14.0, Mom=5.0\n",
            "RandomForest: n_estimators=50.0, max_depth=5.0\n",
            "Retorno Acumulado: 41.02%  → mostra o ganho total da estratégia.\n",
            "Volatilidade Anual: 25.07%  → risco medido em desvio padrão anualizado.\n",
            "Sharpe Ratio: 1.53  → retorno ajustado pelo risco.\n",
            "Drawdown Máximo: -19.50%  → maior perda desde o pico ao fundo.\n",
            "Fator de Recuperação: 2.10  → relação entre retorno total e drawdown máximo.\n",
            "Win Rate: 30.49%  → proporção de trades vencedores.\n",
            "\n",
            "Estratégia #309\n",
            "Médias: short=15.0, long=30.0; RSI=21.0, Mom=5.0\n",
            "RandomForest: n_estimators=50.0, max_depth=10.0\n",
            "Retorno Acumulado: 35.28%  → mostra o ganho total da estratégia.\n",
            "Volatilidade Anual: 22.41%  → risco medido em desvio padrão anualizado.\n",
            "Sharpe Ratio: 1.49  → retorno ajustado pelo risco.\n",
            "Drawdown Máximo: -9.19%  → maior perda desde o pico ao fundo.\n",
            "Fator de Recuperação: 3.84  → relação entre retorno total e drawdown máximo.\n",
            "Win Rate: 22.36%  → proporção de trades vencedores.\n",
            "\n",
            "Estratégia #294\n",
            "Médias: short=15.0, long=30.0; RSI=14.0, Mom=5.0\n",
            "RandomForest: n_estimators=100.0, max_depth=10.0\n",
            "Retorno Acumulado: 36.36%  → mostra o ganho total da estratégia.\n",
            "Volatilidade Anual: 23.98%  → risco medido em desvio padrão anualizado.\n",
            "Sharpe Ratio: 1.44  → retorno ajustado pelo risco.\n",
            "Drawdown Máximo: -16.08%  → maior perda desde o pico ao fundo.\n",
            "Fator de Recuperação: 2.26  → relação entre retorno total e drawdown máximo.\n",
            "Win Rate: 26.42%  → proporção de trades vencedores.\n",
            "\n",
            "Estratégia #86\n",
            "Médias: short=5.0, long=30.0; RSI=14.0, Mom=20.0\n",
            "RandomForest: n_estimators=50.0, max_depth=5.0\n",
            "Retorno Acumulado: 35.25%  → mostra o ganho total da estratégia.\n",
            "Volatilidade Anual: 23.33%  → risco medido em desvio padrão anualizado.\n",
            "Sharpe Ratio: 1.44  → retorno ajustado pelo risco.\n",
            "Drawdown Máximo: -11.95%  → maior perda desde o pico ao fundo.\n",
            "Fator de Recuperação: 2.95  → relação entre retorno total e drawdown máximo.\n",
            "Win Rate: 21.14%  → proporção de trades vencedores.\n",
            "\n",
            "Estratégia #95\n",
            "Médias: short=5.0, long=30.0; RSI=21.0, Mom=5.0\n",
            "RandomForest: n_estimators=100.0, max_depth=5.0\n",
            "Retorno Acumulado: 36.12%  → mostra o ganho total da estratégia.\n",
            "Volatilidade Anual: 24.96%  → risco medido em desvio padrão anualizado.\n",
            "Sharpe Ratio: 1.39  → retorno ajustado pelo risco.\n",
            "Drawdown Máximo: -19.46%  → maior perda desde o pico ao fundo.\n",
            "Fator de Recuperação: 1.86  → relação entre retorno total e drawdown máximo.\n",
            "Win Rate: 29.67%  → proporção de trades vencedores.\n",
            "\n",
            "Estratégia #185\n",
            "Médias: short=10.0, long=30.0; RSI=14.0, Mom=5.0\n",
            "RandomForest: n_estimators=100.0, max_depth=5.0\n",
            "Retorno Acumulado: 35.38%  → mostra o ganho total da estratégia.\n",
            "Volatilidade Anual: 25.00%  → risco medido em desvio padrão anualizado.\n",
            "Sharpe Ratio: 1.36  → retorno ajustado pelo risco.\n",
            "Drawdown Máximo: -14.18%  → maior perda desde o pico ao fundo.\n",
            "Fator de Recuperação: 2.50  → relação entre retorno total e drawdown máximo.\n",
            "Win Rate: 31.30%  → proporção de trades vencedores.\n",
            "\n",
            "Estratégia #292\n",
            "Médias: short=15.0, long=30.0; RSI=14.0, Mom=5.0\n",
            "RandomForest: n_estimators=100.0, max_depth=nan\n",
            "Retorno Acumulado: 34.29%  → mostra o ganho total da estratégia.\n",
            "Volatilidade Anual: 24.63%  → risco medido em desvio padrão anualizado.\n",
            "Sharpe Ratio: 1.35  → retorno ajustado pelo risco.\n",
            "Drawdown Máximo: -16.05%  → maior perda desde o pico ao fundo.\n",
            "Fator de Recuperação: 2.14  → relação entre retorno total e drawdown máximo.\n",
            "Win Rate: 28.86%  → proporção de trades vencedores.\n",
            "\n",
            "Estratégia #189\n",
            "Médias: short=10.0, long=30.0; RSI=14.0, Mom=10.0\n",
            "RandomForest: n_estimators=50.0, max_depth=10.0\n",
            "Retorno Acumulado: 29.71%  → mostra o ganho total da estratégia.\n",
            "Volatilidade Anual: 22.33%  → risco medido em desvio padrão anualizado.\n",
            "Sharpe Ratio: 1.30  → retorno ajustado pelo risco.\n",
            "Drawdown Máximo: -12.25%  → maior perda desde o pico ao fundo.\n",
            "Fator de Recuperação: 2.43  → relação entre retorno total e drawdown máximo.\n",
            "Win Rate: 25.61%  → proporção de trades vencedores.\n"
          ]
        }
      ]
    }
  ],
  "metadata": {
    "kernelspec": {
      "display_name": "Python 3",
      "language": "python",
      "name": "python3"
    },
    "language_info": {
      "codemirror_mode": {
        "name": "ipython",
        "version": 3
      },
      "file_extension": ".py",
      "mimetype": "text/x-python",
      "name": "python",
      "nbconvert_exporter": "python",
      "pygments_lexer": "ipython3",
      "version": "3.7.3"
    },
    "colab": {
      "provenance": [],
      "include_colab_link": true
    }
  },
  "nbformat": 4,
  "nbformat_minor": 0
}