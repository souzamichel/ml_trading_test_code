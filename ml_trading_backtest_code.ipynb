{
  "cells": [
    {
      "cell_type": "markdown",
      "metadata": {
        "id": "view-in-github",
        "colab_type": "text"
      },
      "source": [
        "<a href=\"https://colab.research.google.com/github/souzamichel/ml_trading_test_code/blob/main/ml_trading_backtest_code.ipynb\" target=\"_parent\"><img src=\"https://colab.research.google.com/assets/colab-badge.svg\" alt=\"Open In Colab\"/></a>"
      ]
    },
    {
      "cell_type": "code",
      "source": [
        "# 0. Instala dependências se necessário\n",
        "import sys\n",
        "import subprocess\n",
        "\n",
        "def install_if_missing(pkg):\n",
        "    try:\n",
        "        __import__(pkg)\n",
        "    except ImportError:\n",
        "        subprocess.check_call([sys.executable, \"-m\", \"pip\", \"install\", pkg])\n",
        "\n",
        "for pkg in (\"yfinance\", \"optuna\"):\n",
        "    install_if_missing(pkg)"
      ],
      "metadata": {
        "id": "ry-woJxXYV3h"
      },
      "execution_count": 12,
      "outputs": []
    },
    {
      "cell_type": "code",
      "source": [
        "# 1. Imports\n",
        "import os\n",
        "import csv\n",
        "import logging\n",
        "import numpy as np\n",
        "import pandas as pd\n",
        "import yfinance as yf\n",
        "import optuna\n",
        "from joblib import Parallel, delayed\n",
        "from sklearn.ensemble import RandomForestClassifier\n",
        "from sklearn.model_selection import TimeSeriesSplit\n",
        "from optuna.exceptions import TrialPruned"
      ],
      "metadata": {
        "id": "Vg0ti4XpYdsi"
      },
      "execution_count": 13,
      "outputs": []
    },
    {
      "cell_type": "code",
      "source": [
        "# 2. Configuração de logs\n",
        "LOG_FILENAME = \"optimization.log\"\n",
        "CSV_FILENAME = \"trial_results.csv\"\n",
        "\n",
        "logger = logging.getLogger(\"optuna_rf\")\n",
        "logger.setLevel(logging.INFO)\n",
        "\n",
        "# File handler\n",
        "fh = logging.FileHandler(LOG_FILENAME)\n",
        "fh.setLevel(logging.INFO)\n",
        "fh.setFormatter(logging.Formatter(\n",
        "    \"%(asctime)s %(levelname)s [Trial %(trial_number)s] %(message)s\"\n",
        "))\n",
        "logger.addHandler(fh)\n",
        "\n",
        "# Console handler\n",
        "ch = logging.StreamHandler(sys.stdout)\n",
        "ch.setLevel(logging.INFO)\n",
        "ch.setFormatter(logging.Formatter(\n",
        "    \"%(asctime)s %(levelname)s [Trial %(trial_number)s] %(message)s\"\n",
        "))\n",
        "logger.addHandler(ch)"
      ],
      "metadata": {
        "id": "buwdcbuvYnfS"
      },
      "execution_count": 14,
      "outputs": []
    },
    {
      "cell_type": "code",
      "source": [
        "# 3. Cria CSV de auditoria (header)\n",
        "if not os.path.exists(CSV_FILENAME):\n",
        "    with open(CSV_FILENAME, \"w\", newline=\"\") as f:\n",
        "        writer = csv.writer(f)\n",
        "        writer.writerow([\n",
        "            \"trial_number\",\n",
        "            \"ma_short\", \"ma_long\", \"rsi_period\",\n",
        "            \"n_estimators\", \"max_depth\",\n",
        "            \"avg_recovery\", \"avg_win_rate\",\n",
        "            \"state\"\n",
        "        ])"
      ],
      "metadata": {
        "id": "j2UwRszyXj49"
      },
      "execution_count": 15,
      "outputs": []
    },
    {
      "cell_type": "code",
      "source": [
        "# 4. Indicadores e métricas\n",
        "def compute_rsi(series: pd.Series, period: int = 14) -> pd.Series:\n",
        "    delta    = series.diff()\n",
        "    gain     = delta.clip(lower=0)\n",
        "    loss     = -delta.clip(upper=0)\n",
        "    avg_gain = gain.rolling(period).mean()\n",
        "    avg_loss = loss.rolling(period).mean()\n",
        "    rs       = avg_gain / avg_loss\n",
        "    return 100 - (100 / (1 + rs))\n",
        "\n",
        "def calculate_metrics(returns: pd.Series) -> tuple:\n",
        "    cumulative  = (1 + returns).cumprod() - 1\n",
        "    running_max = cumulative.cummax()\n",
        "    drawdown    = cumulative - running_max\n",
        "    max_dd      = drawdown.min()\n",
        "    total_ret   = cumulative.iloc[-1]\n",
        "    win_rate    = (returns > 0).sum() / len(returns) if len(returns) else 0.0\n",
        "    recovery    = (total_ret / abs(max_dd)) if max_dd < 0 else np.nan\n",
        "    return recovery, win_rate"
      ],
      "metadata": {
        "collapsed": true,
        "id": "FWFK_dY3YFXm"
      },
      "execution_count": 16,
      "outputs": []
    },
    {
      "cell_type": "code",
      "source": [
        "# 5. Carrega dados históricos\n",
        "symbol = \"AAPL\"\n",
        "data = yf.download(symbol, period=\"5y\", interval=\"1d\",\n",
        "                   auto_adjust=True, progress=False)\n",
        "data[\"Return\"] = data[\"Close\"].pct_change()\n",
        "data.dropna(inplace=True)"
      ],
      "metadata": {
        "collapsed": true,
        "id": "NugLwbKiooop"
      },
      "execution_count": 17,
      "outputs": []
    },
    {
      "cell_type": "code",
      "source": [
        "\n",
        "# 6. Função-objetivo com pruning e logs\n",
        "def objective(trial: optuna.trial.Trial) -> float:\n",
        "    # Espaço de busca\n",
        "    ma_short     = trial.suggest_int(\"ma_short\", 5, 15, step=5)\n",
        "    ma_long      = trial.suggest_int(\"ma_long\", 10, 30, step=10)\n",
        "    if ma_long <= ma_short:\n",
        "        ma_long = ma_short + 5\n",
        "    rsi_period   = trial.suggest_categorical(\"rsi_period\", [14, 21])\n",
        "    n_estimators = trial.suggest_categorical(\"n_estimators\", [50, 100])\n",
        "    max_depth    = trial.suggest_categorical(\"max_depth\", [None, 5, 10])\n",
        "\n",
        "    # Contexto para logs\n",
        "    logger = logging.LoggerAdapter(logging.getLogger(\"optuna_rf\"),\n",
        "                                   {\"trial_number\": trial.number})\n",
        "    params = {\n",
        "        \"ma_short\": ma_short, \"ma_long\": ma_long, \"rsi_period\": rsi_period,\n",
        "        \"n_estimators\": n_estimators, \"max_depth\": max_depth\n",
        "    }\n",
        "    logger.info(f\"Starting trial with params {params}\")\n",
        "\n",
        "    # Constroi DataFrame de features e target\n",
        "    df = data.copy()\n",
        "    df[\"MA_short\"] = df[\"Close\"].rolling(ma_short).mean()\n",
        "    df[\"MA_long\"]  = df[\"Close\"].rolling(ma_long).mean()\n",
        "    df[\"RSI\"]      = compute_rsi(df[\"Close\"], rsi_period)\n",
        "    df.dropna(inplace=True)\n",
        "\n",
        "    fut = df[\"Close\"].pct_change().shift(-1)\n",
        "    df[\"Target\"] = (fut > 0).astype(int)\n",
        "    df.dropna(inplace=True)\n",
        "\n",
        "    X   = df[[\"MA_short\", \"MA_long\", \"RSI\"]]\n",
        "    y   = df[\"Target\"]\n",
        "    ret = df[\"Close\"].pct_change().loc[X.index]\n",
        "\n",
        "    tscv = TimeSeriesSplit(n_splits=5)\n",
        "\n",
        "    # Avalia folds em paralelo com pruning\n",
        "    def eval_fold(train_idx, test_idx, fold_idx):\n",
        "        X_tr, X_te = X.iloc[train_idx], X.iloc[test_idx]\n",
        "        y_tr = y.iloc[train_idx]\n",
        "        ret_te = ret.iloc[test_idx]\n",
        "\n",
        "        if y_tr.nunique() < 2 or len(X_te) < 2:\n",
        "            return np.nan, np.nan\n",
        "\n",
        "        model = RandomForestClassifier(\n",
        "            n_estimators=n_estimators,\n",
        "            max_depth=max_depth,\n",
        "            random_state=42\n",
        "        )\n",
        "        model.fit(X_tr, y_tr)\n",
        "        preds = model.predict(X_te)\n",
        "\n",
        "        df_sig        = pd.DataFrame({\"signal\": preds}, index=X_te.index)\n",
        "        df_sig[\"ret\"] = ret_te\n",
        "        df_sig[\"strat\"] = df_sig[\"signal\"].shift(1, fill_value=0) * df_sig[\"ret\"]\n",
        "\n",
        "        if df_sig[\"strat\"].empty:\n",
        "            return np.nan, np.nan\n",
        "\n",
        "        recovery, win_rate = calculate_metrics(df_sig[\"strat\"])\n",
        "        # report & prune\n",
        "        trial.report(recovery, step=fold_idx)\n",
        "        logger.info(f\"Fold {fold_idx} — recovery: {recovery:.4f}, win_rate: {win_rate:.2%}\")\n",
        "        if trial.should_prune():\n",
        "            logger.info(f\"Pruning trial at fold {fold_idx}\")\n",
        "            raise TrialPruned()\n",
        "        return recovery, win_rate\n",
        "\n",
        "    # Executa os folds\n",
        "    try:\n",
        "        folds = Parallel(n_jobs=-1)(\n",
        "            delayed(eval_fold)(tr, te, idx + 1)\n",
        "            for idx, (tr, te) in enumerate(tscv.split(X))\n",
        "        )\n",
        "    except TrialPruned:\n",
        "        # Grava no CSV o estado pruneado\n",
        "        with open(CSV_FILENAME, \"a\", newline=\"\") as f:\n",
        "            writer = csv.writer(f)\n",
        "            writer.writerow([\n",
        "                trial.number,\n",
        "                ma_short, ma_long, rsi_period,\n",
        "                n_estimators, max_depth,\n",
        "                np.nan, np.nan,\n",
        "                \"PRUNED\"\n",
        "            ])\n",
        "        raise\n",
        "\n",
        "    # Processa resultados completos\n",
        "    recovs, wins = zip(*folds)\n",
        "    recovs = np.array(recovs, dtype=float)\n",
        "    recovs = recovs[~np.isnan(recovs)]\n",
        "\n",
        "    # Se algum fold inválido, retorna zero\n",
        "    if len(recovs) < tscv.get_n_splits():\n",
        "        mean_recov, mean_win = 0.0, 0.0\n",
        "        state = \"FAILED\"\n",
        "    else:\n",
        "        mean_recov, mean_win = recovs.mean(), np.array(wins).mean()\n",
        "        state = \"COMPLETE\"\n",
        "\n",
        "    # Persiste auditoria no CSV\n",
        "    with open(CSV_FILENAME, \"a\", newline=\"\") as f:\n",
        "        writer = csv.writer(f)\n",
        "        writer.writerow([\n",
        "            trial.number,\n",
        "            ma_short, ma_long, rsi_period,\n",
        "            n_estimators, max_depth,\n",
        "            f\"{mean_recov:.6f}\", f\"{mean_win:.6f}\",\n",
        "            state\n",
        "        ])\n",
        "\n",
        "    logger.info(f\"Finished trial — avg_recovery: {mean_recov:.4f}, avg_win_rate: {mean_win:.2%}\")\n",
        "    return mean_recov"
      ],
      "metadata": {
        "collapsed": true,
        "id": "RhP1t0cMorlS"
      },
      "execution_count": 18,
      "outputs": []
    },
    {
      "cell_type": "code",
      "source": [
        "# 7. Execução do estudo com pruner\n",
        "pruner = optuna.pruners.MedianPruner(n_startup_trials=5, n_warmup_steps=2)\n",
        "study = optuna.create_study(direction=\"maximize\", pruner=pruner)\n",
        "study.optimize(objective, n_trials=50, n_jobs=1)"
      ],
      "metadata": {
        "id": "BIXC0Tsswsm4",
        "outputId": "38a63bce-619c-4cf1-bb15-4df995109ae1",
        "colab": {
          "base_uri": "https://localhost:8080/"
        }
      },
      "execution_count": 19,
      "outputs": [
        {
          "output_type": "stream",
          "name": "stderr",
          "text": [
            "[I 2025-07-27 21:21:45,827] A new study created in memory with name: no-name-99b7065a-2881-49bf-9fc0-6ccddf3b27e8\n"
          ]
        },
        {
          "output_type": "stream",
          "name": "stdout",
          "text": [
            "2025-07-27 21:21:45,831 INFO [Trial 0] Starting trial with params {'ma_short': 15, 'ma_long': 20, 'rsi_period': 21, 'n_estimators': 50, 'max_depth': 5}\n"
          ]
        },
        {
          "output_type": "stream",
          "name": "stderr",
          "text": [
            "INFO:optuna_rf:Starting trial with params {'ma_short': 15, 'ma_long': 20, 'rsi_period': 21, 'n_estimators': 50, 'max_depth': 5}\n"
          ]
        },
        {
          "output_type": "stream",
          "name": "stdout",
          "text": [
            "2025-07-27 21:21:47,494 INFO [Trial 0] Finished trial — avg_recovery: 0.0000, avg_win_rate: 0.00%\n"
          ]
        },
        {
          "output_type": "stream",
          "name": "stderr",
          "text": [
            "INFO:optuna_rf:Finished trial — avg_recovery: 0.0000, avg_win_rate: 0.00%\n",
            "[I 2025-07-27 21:21:47,496] Trial 0 finished with value: 0.0 and parameters: {'ma_short': 15, 'ma_long': 10, 'rsi_period': 21, 'n_estimators': 50, 'max_depth': 5}. Best is trial 0 with value: 0.0.\n"
          ]
        },
        {
          "output_type": "stream",
          "name": "stdout",
          "text": [
            "2025-07-27 21:21:47,498 INFO [Trial 1] Starting trial with params {'ma_short': 15, 'ma_long': 20, 'rsi_period': 14, 'n_estimators': 50, 'max_depth': 10}\n"
          ]
        },
        {
          "output_type": "stream",
          "name": "stderr",
          "text": [
            "INFO:optuna_rf:Starting trial with params {'ma_short': 15, 'ma_long': 20, 'rsi_period': 14, 'n_estimators': 50, 'max_depth': 10}\n"
          ]
        },
        {
          "output_type": "stream",
          "name": "stdout",
          "text": [
            "2025-07-27 21:21:47,851 INFO [Trial 1] Finished trial — avg_recovery: 0.5091, avg_win_rate: 20.19%\n"
          ]
        },
        {
          "output_type": "stream",
          "name": "stderr",
          "text": [
            "INFO:optuna_rf:Finished trial — avg_recovery: 0.5091, avg_win_rate: 20.19%\n",
            "[I 2025-07-27 21:21:47,853] Trial 1 finished with value: 0.5091257298505041 and parameters: {'ma_short': 15, 'ma_long': 10, 'rsi_period': 14, 'n_estimators': 50, 'max_depth': 10}. Best is trial 1 with value: 0.5091257298505041.\n"
          ]
        },
        {
          "output_type": "stream",
          "name": "stdout",
          "text": [
            "2025-07-27 21:21:47,856 INFO [Trial 2] Starting trial with params {'ma_short': 15, 'ma_long': 30, 'rsi_period': 14, 'n_estimators': 100, 'max_depth': None}\n"
          ]
        },
        {
          "output_type": "stream",
          "name": "stderr",
          "text": [
            "INFO:optuna_rf:Starting trial with params {'ma_short': 15, 'ma_long': 30, 'rsi_period': 14, 'n_estimators': 100, 'max_depth': None}\n"
          ]
        },
        {
          "output_type": "stream",
          "name": "stdout",
          "text": [
            "2025-07-27 21:21:48,559 INFO [Trial 2] Finished trial — avg_recovery: 0.7270, avg_win_rate: 17.65%\n"
          ]
        },
        {
          "output_type": "stream",
          "name": "stderr",
          "text": [
            "INFO:optuna_rf:Finished trial — avg_recovery: 0.7270, avg_win_rate: 17.65%\n",
            "[I 2025-07-27 21:21:48,561] Trial 2 finished with value: 0.7270424055409703 and parameters: {'ma_short': 15, 'ma_long': 30, 'rsi_period': 14, 'n_estimators': 100, 'max_depth': None}. Best is trial 2 with value: 0.7270424055409703.\n"
          ]
        },
        {
          "output_type": "stream",
          "name": "stdout",
          "text": [
            "2025-07-27 21:21:48,563 INFO [Trial 3] Starting trial with params {'ma_short': 5, 'ma_long': 10, 'rsi_period': 14, 'n_estimators': 100, 'max_depth': None}\n"
          ]
        },
        {
          "output_type": "stream",
          "name": "stderr",
          "text": [
            "INFO:optuna_rf:Starting trial with params {'ma_short': 5, 'ma_long': 10, 'rsi_period': 14, 'n_estimators': 100, 'max_depth': None}\n"
          ]
        },
        {
          "output_type": "stream",
          "name": "stdout",
          "text": [
            "2025-07-27 21:21:49,302 INFO [Trial 3] Finished trial — avg_recovery: 0.3782, avg_win_rate: 21.36%\n"
          ]
        },
        {
          "output_type": "stream",
          "name": "stderr",
          "text": [
            "INFO:optuna_rf:Finished trial — avg_recovery: 0.3782, avg_win_rate: 21.36%\n",
            "[I 2025-07-27 21:21:49,304] Trial 3 finished with value: 0.37823104159442245 and parameters: {'ma_short': 5, 'ma_long': 10, 'rsi_period': 14, 'n_estimators': 100, 'max_depth': None}. Best is trial 2 with value: 0.7270424055409703.\n"
          ]
        },
        {
          "output_type": "stream",
          "name": "stdout",
          "text": [
            "2025-07-27 21:21:49,306 INFO [Trial 4] Starting trial with params {'ma_short': 15, 'ma_long': 30, 'rsi_period': 21, 'n_estimators': 50, 'max_depth': 10}\n"
          ]
        },
        {
          "output_type": "stream",
          "name": "stderr",
          "text": [
            "INFO:optuna_rf:Starting trial with params {'ma_short': 15, 'ma_long': 30, 'rsi_period': 21, 'n_estimators': 50, 'max_depth': 10}\n"
          ]
        },
        {
          "output_type": "stream",
          "name": "stdout",
          "text": [
            "2025-07-27 21:21:49,647 INFO [Trial 4] Finished trial — avg_recovery: -0.2514, avg_win_rate: 18.14%\n"
          ]
        },
        {
          "output_type": "stream",
          "name": "stderr",
          "text": [
            "INFO:optuna_rf:Finished trial — avg_recovery: -0.2514, avg_win_rate: 18.14%\n",
            "[I 2025-07-27 21:21:49,649] Trial 4 finished with value: -0.2514077996232188 and parameters: {'ma_short': 15, 'ma_long': 30, 'rsi_period': 21, 'n_estimators': 50, 'max_depth': 10}. Best is trial 2 with value: 0.7270424055409703.\n"
          ]
        },
        {
          "output_type": "stream",
          "name": "stdout",
          "text": [
            "2025-07-27 21:21:49,651 INFO [Trial 5] Starting trial with params {'ma_short': 15, 'ma_long': 20, 'rsi_period': 21, 'n_estimators': 50, 'max_depth': None}\n"
          ]
        },
        {
          "output_type": "stream",
          "name": "stderr",
          "text": [
            "INFO:optuna_rf:Starting trial with params {'ma_short': 15, 'ma_long': 20, 'rsi_period': 21, 'n_estimators': 50, 'max_depth': None}\n"
          ]
        },
        {
          "output_type": "stream",
          "name": "stdout",
          "text": [
            "2025-07-27 21:21:50,022 INFO [Trial 5] Finished trial — avg_recovery: 0.7396, avg_win_rate: 17.66%\n"
          ]
        },
        {
          "output_type": "stream",
          "name": "stderr",
          "text": [
            "INFO:optuna_rf:Finished trial — avg_recovery: 0.7396, avg_win_rate: 17.66%\n",
            "[I 2025-07-27 21:21:50,024] Trial 5 finished with value: 0.7396212730710559 and parameters: {'ma_short': 15, 'ma_long': 10, 'rsi_period': 21, 'n_estimators': 50, 'max_depth': None}. Best is trial 5 with value: 0.7396212730710559.\n"
          ]
        },
        {
          "output_type": "stream",
          "name": "stdout",
          "text": [
            "2025-07-27 21:21:50,027 INFO [Trial 6] Starting trial with params {'ma_short': 15, 'ma_long': 20, 'rsi_period': 21, 'n_estimators': 50, 'max_depth': None}\n"
          ]
        },
        {
          "output_type": "stream",
          "name": "stderr",
          "text": [
            "INFO:optuna_rf:Starting trial with params {'ma_short': 15, 'ma_long': 20, 'rsi_period': 21, 'n_estimators': 50, 'max_depth': None}\n"
          ]
        },
        {
          "output_type": "stream",
          "name": "stdout",
          "text": [
            "2025-07-27 21:21:50,395 INFO [Trial 6] Finished trial — avg_recovery: 0.7396, avg_win_rate: 17.66%\n"
          ]
        },
        {
          "output_type": "stream",
          "name": "stderr",
          "text": [
            "INFO:optuna_rf:Finished trial — avg_recovery: 0.7396, avg_win_rate: 17.66%\n",
            "[I 2025-07-27 21:21:50,397] Trial 6 finished with value: 0.7396212730710559 and parameters: {'ma_short': 15, 'ma_long': 20, 'rsi_period': 21, 'n_estimators': 50, 'max_depth': None}. Best is trial 5 with value: 0.7396212730710559.\n"
          ]
        },
        {
          "output_type": "stream",
          "name": "stdout",
          "text": [
            "2025-07-27 21:21:50,398 INFO [Trial 7] Starting trial with params {'ma_short': 15, 'ma_long': 30, 'rsi_period': 21, 'n_estimators': 50, 'max_depth': None}\n"
          ]
        },
        {
          "output_type": "stream",
          "name": "stderr",
          "text": [
            "INFO:optuna_rf:Starting trial with params {'ma_short': 15, 'ma_long': 30, 'rsi_period': 21, 'n_estimators': 50, 'max_depth': None}\n"
          ]
        },
        {
          "output_type": "stream",
          "name": "stdout",
          "text": [
            "2025-07-27 21:21:50,753 INFO [Trial 7] Finished trial — avg_recovery: -0.2274, avg_win_rate: 17.06%\n"
          ]
        },
        {
          "output_type": "stream",
          "name": "stderr",
          "text": [
            "INFO:optuna_rf:Finished trial — avg_recovery: -0.2274, avg_win_rate: 17.06%\n",
            "[I 2025-07-27 21:21:50,756] Trial 7 finished with value: -0.22736604764372803 and parameters: {'ma_short': 15, 'ma_long': 30, 'rsi_period': 21, 'n_estimators': 50, 'max_depth': None}. Best is trial 5 with value: 0.7396212730710559.\n"
          ]
        },
        {
          "output_type": "stream",
          "name": "stdout",
          "text": [
            "2025-07-27 21:21:50,757 INFO [Trial 8] Starting trial with params {'ma_short': 5, 'ma_long': 10, 'rsi_period': 14, 'n_estimators': 100, 'max_depth': None}\n"
          ]
        },
        {
          "output_type": "stream",
          "name": "stderr",
          "text": [
            "INFO:optuna_rf:Starting trial with params {'ma_short': 5, 'ma_long': 10, 'rsi_period': 14, 'n_estimators': 100, 'max_depth': None}\n"
          ]
        },
        {
          "output_type": "stream",
          "name": "stdout",
          "text": [
            "2025-07-27 21:21:51,465 INFO [Trial 8] Finished trial — avg_recovery: 0.3782, avg_win_rate: 21.36%\n"
          ]
        },
        {
          "output_type": "stream",
          "name": "stderr",
          "text": [
            "INFO:optuna_rf:Finished trial — avg_recovery: 0.3782, avg_win_rate: 21.36%\n",
            "[I 2025-07-27 21:21:51,468] Trial 8 finished with value: 0.37823104159442245 and parameters: {'ma_short': 5, 'ma_long': 10, 'rsi_period': 14, 'n_estimators': 100, 'max_depth': None}. Best is trial 5 with value: 0.7396212730710559.\n"
          ]
        },
        {
          "output_type": "stream",
          "name": "stdout",
          "text": [
            "2025-07-27 21:21:51,469 INFO [Trial 9] Starting trial with params {'ma_short': 5, 'ma_long': 20, 'rsi_period': 14, 'n_estimators': 100, 'max_depth': 5}\n"
          ]
        },
        {
          "output_type": "stream",
          "name": "stderr",
          "text": [
            "INFO:optuna_rf:Starting trial with params {'ma_short': 5, 'ma_long': 20, 'rsi_period': 14, 'n_estimators': 100, 'max_depth': 5}\n"
          ]
        },
        {
          "output_type": "stream",
          "name": "stdout",
          "text": [
            "2025-07-27 21:21:52,222 INFO [Trial 9] Finished trial — avg_recovery: 0.0000, avg_win_rate: 0.00%\n"
          ]
        },
        {
          "output_type": "stream",
          "name": "stderr",
          "text": [
            "INFO:optuna_rf:Finished trial — avg_recovery: 0.0000, avg_win_rate: 0.00%\n",
            "[I 2025-07-27 21:21:52,224] Trial 9 finished with value: 0.0 and parameters: {'ma_short': 5, 'ma_long': 20, 'rsi_period': 14, 'n_estimators': 100, 'max_depth': 5}. Best is trial 5 with value: 0.7396212730710559.\n"
          ]
        },
        {
          "output_type": "stream",
          "name": "stdout",
          "text": [
            "2025-07-27 21:21:52,242 INFO [Trial 10] Starting trial with params {'ma_short': 10, 'ma_long': 20, 'rsi_period': 21, 'n_estimators': 50, 'max_depth': 5}\n"
          ]
        },
        {
          "output_type": "stream",
          "name": "stderr",
          "text": [
            "INFO:optuna_rf:Starting trial with params {'ma_short': 10, 'ma_long': 20, 'rsi_period': 21, 'n_estimators': 50, 'max_depth': 5}\n"
          ]
        },
        {
          "output_type": "stream",
          "name": "stdout",
          "text": [
            "2025-07-27 21:21:52,785 INFO [Trial 10] Finished trial — avg_recovery: 0.0000, avg_win_rate: 0.00%\n"
          ]
        },
        {
          "output_type": "stream",
          "name": "stderr",
          "text": [
            "INFO:optuna_rf:Finished trial — avg_recovery: 0.0000, avg_win_rate: 0.00%\n",
            "[I 2025-07-27 21:21:52,787] Trial 10 finished with value: 0.0 and parameters: {'ma_short': 10, 'ma_long': 20, 'rsi_period': 21, 'n_estimators': 50, 'max_depth': 5}. Best is trial 5 with value: 0.7396212730710559.\n"
          ]
        },
        {
          "output_type": "stream",
          "name": "stdout",
          "text": [
            "2025-07-27 21:21:52,801 INFO [Trial 11] Starting trial with params {'ma_short': 10, 'ma_long': 20, 'rsi_period': 21, 'n_estimators': 50, 'max_depth': None}\n"
          ]
        },
        {
          "output_type": "stream",
          "name": "stderr",
          "text": [
            "INFO:optuna_rf:Starting trial with params {'ma_short': 10, 'ma_long': 20, 'rsi_period': 21, 'n_estimators': 50, 'max_depth': None}\n"
          ]
        },
        {
          "output_type": "stream",
          "name": "stdout",
          "text": [
            "2025-07-27 21:21:53,402 INFO [Trial 11] Finished trial — avg_recovery: 0.0000, avg_win_rate: 0.00%\n"
          ]
        },
        {
          "output_type": "stream",
          "name": "stderr",
          "text": [
            "INFO:optuna_rf:Finished trial — avg_recovery: 0.0000, avg_win_rate: 0.00%\n",
            "[I 2025-07-27 21:21:53,403] Trial 11 finished with value: 0.0 and parameters: {'ma_short': 10, 'ma_long': 20, 'rsi_period': 21, 'n_estimators': 50, 'max_depth': None}. Best is trial 5 with value: 0.7396212730710559.\n"
          ]
        },
        {
          "output_type": "stream",
          "name": "stdout",
          "text": [
            "2025-07-27 21:21:53,413 INFO [Trial 12] Starting trial with params {'ma_short': 10, 'ma_long': 20, 'rsi_period': 21, 'n_estimators': 50, 'max_depth': None}\n"
          ]
        },
        {
          "output_type": "stream",
          "name": "stderr",
          "text": [
            "INFO:optuna_rf:Starting trial with params {'ma_short': 10, 'ma_long': 20, 'rsi_period': 21, 'n_estimators': 50, 'max_depth': None}\n"
          ]
        },
        {
          "output_type": "stream",
          "name": "stdout",
          "text": [
            "2025-07-27 21:21:53,772 INFO [Trial 12] Finished trial — avg_recovery: 0.0000, avg_win_rate: 0.00%\n"
          ]
        },
        {
          "output_type": "stream",
          "name": "stderr",
          "text": [
            "INFO:optuna_rf:Finished trial — avg_recovery: 0.0000, avg_win_rate: 0.00%\n",
            "[I 2025-07-27 21:21:53,774] Trial 12 finished with value: 0.0 and parameters: {'ma_short': 10, 'ma_long': 20, 'rsi_period': 21, 'n_estimators': 50, 'max_depth': None}. Best is trial 5 with value: 0.7396212730710559.\n"
          ]
        },
        {
          "output_type": "stream",
          "name": "stdout",
          "text": [
            "2025-07-27 21:21:53,784 INFO [Trial 13] Starting trial with params {'ma_short': 10, 'ma_long': 15, 'rsi_period': 21, 'n_estimators': 50, 'max_depth': None}\n"
          ]
        },
        {
          "output_type": "stream",
          "name": "stderr",
          "text": [
            "INFO:optuna_rf:Starting trial with params {'ma_short': 10, 'ma_long': 15, 'rsi_period': 21, 'n_estimators': 50, 'max_depth': None}\n"
          ]
        },
        {
          "output_type": "stream",
          "name": "stdout",
          "text": [
            "2025-07-27 21:21:54,167 INFO [Trial 13] Finished trial — avg_recovery: 0.0000, avg_win_rate: 0.00%\n"
          ]
        },
        {
          "output_type": "stream",
          "name": "stderr",
          "text": [
            "INFO:optuna_rf:Finished trial — avg_recovery: 0.0000, avg_win_rate: 0.00%\n",
            "[I 2025-07-27 21:21:54,169] Trial 13 finished with value: 0.0 and parameters: {'ma_short': 10, 'ma_long': 10, 'rsi_period': 21, 'n_estimators': 50, 'max_depth': None}. Best is trial 5 with value: 0.7396212730710559.\n"
          ]
        },
        {
          "output_type": "stream",
          "name": "stdout",
          "text": [
            "2025-07-27 21:21:54,182 INFO [Trial 14] Starting trial with params {'ma_short': 15, 'ma_long': 20, 'rsi_period': 21, 'n_estimators': 50, 'max_depth': 10}\n"
          ]
        },
        {
          "output_type": "stream",
          "name": "stderr",
          "text": [
            "INFO:optuna_rf:Starting trial with params {'ma_short': 15, 'ma_long': 20, 'rsi_period': 21, 'n_estimators': 50, 'max_depth': 10}\n"
          ]
        },
        {
          "output_type": "stream",
          "name": "stdout",
          "text": [
            "2025-07-27 21:21:54,519 INFO [Trial 14] Finished trial — avg_recovery: 0.0000, avg_win_rate: 0.00%\n"
          ]
        },
        {
          "output_type": "stream",
          "name": "stderr",
          "text": [
            "INFO:optuna_rf:Finished trial — avg_recovery: 0.0000, avg_win_rate: 0.00%\n",
            "[I 2025-07-27 21:21:54,521] Trial 14 finished with value: 0.0 and parameters: {'ma_short': 15, 'ma_long': 20, 'rsi_period': 21, 'n_estimators': 50, 'max_depth': 10}. Best is trial 5 with value: 0.7396212730710559.\n"
          ]
        },
        {
          "output_type": "stream",
          "name": "stdout",
          "text": [
            "2025-07-27 21:21:54,533 INFO [Trial 15] Starting trial with params {'ma_short': 15, 'ma_long': 20, 'rsi_period': 21, 'n_estimators': 50, 'max_depth': None}\n"
          ]
        },
        {
          "output_type": "stream",
          "name": "stderr",
          "text": [
            "INFO:optuna_rf:Starting trial with params {'ma_short': 15, 'ma_long': 20, 'rsi_period': 21, 'n_estimators': 50, 'max_depth': None}\n"
          ]
        },
        {
          "output_type": "stream",
          "name": "stdout",
          "text": [
            "2025-07-27 21:21:54,892 INFO [Trial 15] Finished trial — avg_recovery: 0.7396, avg_win_rate: 17.66%\n"
          ]
        },
        {
          "output_type": "stream",
          "name": "stderr",
          "text": [
            "INFO:optuna_rf:Finished trial — avg_recovery: 0.7396, avg_win_rate: 17.66%\n",
            "[I 2025-07-27 21:21:54,894] Trial 15 finished with value: 0.7396212730710559 and parameters: {'ma_short': 15, 'ma_long': 20, 'rsi_period': 21, 'n_estimators': 50, 'max_depth': None}. Best is trial 5 with value: 0.7396212730710559.\n"
          ]
        },
        {
          "output_type": "stream",
          "name": "stdout",
          "text": [
            "2025-07-27 21:21:54,907 INFO [Trial 16] Starting trial with params {'ma_short': 10, 'ma_long': 15, 'rsi_period': 21, 'n_estimators': 50, 'max_depth': None}\n"
          ]
        },
        {
          "output_type": "stream",
          "name": "stderr",
          "text": [
            "INFO:optuna_rf:Starting trial with params {'ma_short': 10, 'ma_long': 15, 'rsi_period': 21, 'n_estimators': 50, 'max_depth': None}\n"
          ]
        },
        {
          "output_type": "stream",
          "name": "stdout",
          "text": [
            "2025-07-27 21:21:55,302 INFO [Trial 16] Finished trial — avg_recovery: 0.0000, avg_win_rate: 0.00%\n"
          ]
        },
        {
          "output_type": "stream",
          "name": "stderr",
          "text": [
            "INFO:optuna_rf:Finished trial — avg_recovery: 0.0000, avg_win_rate: 0.00%\n",
            "[I 2025-07-27 21:21:55,303] Trial 16 finished with value: 0.0 and parameters: {'ma_short': 10, 'ma_long': 10, 'rsi_period': 21, 'n_estimators': 50, 'max_depth': None}. Best is trial 5 with value: 0.7396212730710559.\n"
          ]
        },
        {
          "output_type": "stream",
          "name": "stdout",
          "text": [
            "2025-07-27 21:21:55,315 INFO [Trial 17] Starting trial with params {'ma_short': 15, 'ma_long': 30, 'rsi_period': 21, 'n_estimators': 50, 'max_depth': None}\n"
          ]
        },
        {
          "output_type": "stream",
          "name": "stderr",
          "text": [
            "INFO:optuna_rf:Starting trial with params {'ma_short': 15, 'ma_long': 30, 'rsi_period': 21, 'n_estimators': 50, 'max_depth': None}\n"
          ]
        },
        {
          "output_type": "stream",
          "name": "stdout",
          "text": [
            "2025-07-27 21:21:55,671 INFO [Trial 17] Finished trial — avg_recovery: -0.2274, avg_win_rate: 17.06%\n"
          ]
        },
        {
          "output_type": "stream",
          "name": "stderr",
          "text": [
            "INFO:optuna_rf:Finished trial — avg_recovery: -0.2274, avg_win_rate: 17.06%\n",
            "[I 2025-07-27 21:21:55,673] Trial 17 finished with value: -0.22736604764372803 and parameters: {'ma_short': 15, 'ma_long': 30, 'rsi_period': 21, 'n_estimators': 50, 'max_depth': None}. Best is trial 5 with value: 0.7396212730710559.\n"
          ]
        },
        {
          "output_type": "stream",
          "name": "stdout",
          "text": [
            "2025-07-27 21:21:55,685 INFO [Trial 18] Starting trial with params {'ma_short': 15, 'ma_long': 20, 'rsi_period': 21, 'n_estimators': 100, 'max_depth': 5}\n"
          ]
        },
        {
          "output_type": "stream",
          "name": "stderr",
          "text": [
            "INFO:optuna_rf:Starting trial with params {'ma_short': 15, 'ma_long': 20, 'rsi_period': 21, 'n_estimators': 100, 'max_depth': 5}\n"
          ]
        },
        {
          "output_type": "stream",
          "name": "stdout",
          "text": [
            "2025-07-27 21:21:56,257 INFO [Trial 18] Finished trial — avg_recovery: 0.0000, avg_win_rate: 0.00%\n"
          ]
        },
        {
          "output_type": "stream",
          "name": "stderr",
          "text": [
            "INFO:optuna_rf:Finished trial — avg_recovery: 0.0000, avg_win_rate: 0.00%\n",
            "[I 2025-07-27 21:21:56,259] Trial 18 finished with value: 0.0 and parameters: {'ma_short': 15, 'ma_long': 10, 'rsi_period': 21, 'n_estimators': 100, 'max_depth': 5}. Best is trial 5 with value: 0.7396212730710559.\n"
          ]
        },
        {
          "output_type": "stream",
          "name": "stdout",
          "text": [
            "2025-07-27 21:21:56,272 INFO [Trial 19] Starting trial with params {'ma_short': 10, 'ma_long': 20, 'rsi_period': 21, 'n_estimators': 50, 'max_depth': 10}\n"
          ]
        },
        {
          "output_type": "stream",
          "name": "stderr",
          "text": [
            "INFO:optuna_rf:Starting trial with params {'ma_short': 10, 'ma_long': 20, 'rsi_period': 21, 'n_estimators': 50, 'max_depth': 10}\n"
          ]
        },
        {
          "output_type": "stream",
          "name": "stdout",
          "text": [
            "2025-07-27 21:21:56,605 INFO [Trial 19] Finished trial — avg_recovery: 0.0000, avg_win_rate: 0.00%\n"
          ]
        },
        {
          "output_type": "stream",
          "name": "stderr",
          "text": [
            "INFO:optuna_rf:Finished trial — avg_recovery: 0.0000, avg_win_rate: 0.00%\n",
            "[I 2025-07-27 21:21:56,608] Trial 19 finished with value: 0.0 and parameters: {'ma_short': 10, 'ma_long': 20, 'rsi_period': 21, 'n_estimators': 50, 'max_depth': 10}. Best is trial 5 with value: 0.7396212730710559.\n"
          ]
        },
        {
          "output_type": "stream",
          "name": "stdout",
          "text": [
            "2025-07-27 21:21:56,620 INFO [Trial 20] Starting trial with params {'ma_short': 10, 'ma_long': 20, 'rsi_period': 21, 'n_estimators': 50, 'max_depth': None}\n"
          ]
        },
        {
          "output_type": "stream",
          "name": "stderr",
          "text": [
            "INFO:optuna_rf:Starting trial with params {'ma_short': 10, 'ma_long': 20, 'rsi_period': 21, 'n_estimators': 50, 'max_depth': None}\n"
          ]
        },
        {
          "output_type": "stream",
          "name": "stdout",
          "text": [
            "2025-07-27 21:21:56,985 INFO [Trial 20] Finished trial — avg_recovery: 0.0000, avg_win_rate: 0.00%\n"
          ]
        },
        {
          "output_type": "stream",
          "name": "stderr",
          "text": [
            "INFO:optuna_rf:Finished trial — avg_recovery: 0.0000, avg_win_rate: 0.00%\n",
            "[I 2025-07-27 21:21:56,988] Trial 20 finished with value: 0.0 and parameters: {'ma_short': 10, 'ma_long': 20, 'rsi_period': 21, 'n_estimators': 50, 'max_depth': None}. Best is trial 5 with value: 0.7396212730710559.\n"
          ]
        },
        {
          "output_type": "stream",
          "name": "stdout",
          "text": [
            "2025-07-27 21:21:57,001 INFO [Trial 21] Starting trial with params {'ma_short': 15, 'ma_long': 20, 'rsi_period': 21, 'n_estimators': 50, 'max_depth': None}\n"
          ]
        },
        {
          "output_type": "stream",
          "name": "stderr",
          "text": [
            "INFO:optuna_rf:Starting trial with params {'ma_short': 15, 'ma_long': 20, 'rsi_period': 21, 'n_estimators': 50, 'max_depth': None}\n"
          ]
        },
        {
          "output_type": "stream",
          "name": "stdout",
          "text": [
            "2025-07-27 21:21:57,388 INFO [Trial 21] Finished trial — avg_recovery: 0.7396, avg_win_rate: 17.66%\n"
          ]
        },
        {
          "output_type": "stream",
          "name": "stderr",
          "text": [
            "INFO:optuna_rf:Finished trial — avg_recovery: 0.7396, avg_win_rate: 17.66%\n",
            "[I 2025-07-27 21:21:57,391] Trial 21 finished with value: 0.7396212730710559 and parameters: {'ma_short': 15, 'ma_long': 20, 'rsi_period': 21, 'n_estimators': 50, 'max_depth': None}. Best is trial 5 with value: 0.7396212730710559.\n"
          ]
        },
        {
          "output_type": "stream",
          "name": "stdout",
          "text": [
            "2025-07-27 21:21:57,403 INFO [Trial 22] Starting trial with params {'ma_short': 15, 'ma_long': 20, 'rsi_period': 21, 'n_estimators': 50, 'max_depth': None}\n"
          ]
        },
        {
          "output_type": "stream",
          "name": "stderr",
          "text": [
            "INFO:optuna_rf:Starting trial with params {'ma_short': 15, 'ma_long': 20, 'rsi_period': 21, 'n_estimators': 50, 'max_depth': None}\n"
          ]
        },
        {
          "output_type": "stream",
          "name": "stdout",
          "text": [
            "2025-07-27 21:21:57,776 INFO [Trial 22] Finished trial — avg_recovery: 0.7396, avg_win_rate: 17.66%\n"
          ]
        },
        {
          "output_type": "stream",
          "name": "stderr",
          "text": [
            "INFO:optuna_rf:Finished trial — avg_recovery: 0.7396, avg_win_rate: 17.66%\n",
            "[I 2025-07-27 21:21:57,777] Trial 22 finished with value: 0.7396212730710559 and parameters: {'ma_short': 15, 'ma_long': 20, 'rsi_period': 21, 'n_estimators': 50, 'max_depth': None}. Best is trial 5 with value: 0.7396212730710559.\n"
          ]
        },
        {
          "output_type": "stream",
          "name": "stdout",
          "text": [
            "2025-07-27 21:21:57,789 INFO [Trial 23] Starting trial with params {'ma_short': 15, 'ma_long': 30, 'rsi_period': 21, 'n_estimators': 50, 'max_depth': None}\n"
          ]
        },
        {
          "output_type": "stream",
          "name": "stderr",
          "text": [
            "INFO:optuna_rf:Starting trial with params {'ma_short': 15, 'ma_long': 30, 'rsi_period': 21, 'n_estimators': 50, 'max_depth': None}\n"
          ]
        },
        {
          "output_type": "stream",
          "name": "stdout",
          "text": [
            "2025-07-27 21:21:58,173 INFO [Trial 23] Finished trial — avg_recovery: -0.2274, avg_win_rate: 17.06%\n"
          ]
        },
        {
          "output_type": "stream",
          "name": "stderr",
          "text": [
            "INFO:optuna_rf:Finished trial — avg_recovery: -0.2274, avg_win_rate: 17.06%\n",
            "[I 2025-07-27 21:21:58,174] Trial 23 finished with value: -0.22736604764372803 and parameters: {'ma_short': 15, 'ma_long': 30, 'rsi_period': 21, 'n_estimators': 50, 'max_depth': None}. Best is trial 5 with value: 0.7396212730710559.\n"
          ]
        },
        {
          "output_type": "stream",
          "name": "stdout",
          "text": [
            "2025-07-27 21:21:58,189 INFO [Trial 24] Starting trial with params {'ma_short': 15, 'ma_long': 20, 'rsi_period': 21, 'n_estimators': 50, 'max_depth': None}\n"
          ]
        },
        {
          "output_type": "stream",
          "name": "stderr",
          "text": [
            "INFO:optuna_rf:Starting trial with params {'ma_short': 15, 'ma_long': 20, 'rsi_period': 21, 'n_estimators': 50, 'max_depth': None}\n"
          ]
        },
        {
          "output_type": "stream",
          "name": "stdout",
          "text": [
            "2025-07-27 21:21:58,553 INFO [Trial 24] Finished trial — avg_recovery: 0.7396, avg_win_rate: 17.66%\n"
          ]
        },
        {
          "output_type": "stream",
          "name": "stderr",
          "text": [
            "INFO:optuna_rf:Finished trial — avg_recovery: 0.7396, avg_win_rate: 17.66%\n",
            "[I 2025-07-27 21:21:58,555] Trial 24 finished with value: 0.7396212730710559 and parameters: {'ma_short': 15, 'ma_long': 10, 'rsi_period': 21, 'n_estimators': 50, 'max_depth': None}. Best is trial 5 with value: 0.7396212730710559.\n"
          ]
        },
        {
          "output_type": "stream",
          "name": "stdout",
          "text": [
            "2025-07-27 21:21:58,568 INFO [Trial 25] Starting trial with params {'ma_short': 15, 'ma_long': 20, 'rsi_period': 21, 'n_estimators': 50, 'max_depth': None}\n"
          ]
        },
        {
          "output_type": "stream",
          "name": "stderr",
          "text": [
            "INFO:optuna_rf:Starting trial with params {'ma_short': 15, 'ma_long': 20, 'rsi_period': 21, 'n_estimators': 50, 'max_depth': None}\n"
          ]
        },
        {
          "output_type": "stream",
          "name": "stdout",
          "text": [
            "2025-07-27 21:21:58,938 INFO [Trial 25] Finished trial — avg_recovery: 0.7396, avg_win_rate: 17.66%\n"
          ]
        },
        {
          "output_type": "stream",
          "name": "stderr",
          "text": [
            "INFO:optuna_rf:Finished trial — avg_recovery: 0.7396, avg_win_rate: 17.66%\n",
            "[I 2025-07-27 21:21:58,940] Trial 25 finished with value: 0.7396212730710559 and parameters: {'ma_short': 15, 'ma_long': 20, 'rsi_period': 21, 'n_estimators': 50, 'max_depth': None}. Best is trial 5 with value: 0.7396212730710559.\n"
          ]
        },
        {
          "output_type": "stream",
          "name": "stdout",
          "text": [
            "2025-07-27 21:21:58,951 INFO [Trial 26] Starting trial with params {'ma_short': 15, 'ma_long': 30, 'rsi_period': 14, 'n_estimators': 100, 'max_depth': None}\n"
          ]
        },
        {
          "output_type": "stream",
          "name": "stderr",
          "text": [
            "INFO:optuna_rf:Starting trial with params {'ma_short': 15, 'ma_long': 30, 'rsi_period': 14, 'n_estimators': 100, 'max_depth': None}\n"
          ]
        },
        {
          "output_type": "stream",
          "name": "stdout",
          "text": [
            "2025-07-27 21:21:59,663 INFO [Trial 26] Finished trial — avg_recovery: 0.7270, avg_win_rate: 17.65%\n"
          ]
        },
        {
          "output_type": "stream",
          "name": "stderr",
          "text": [
            "INFO:optuna_rf:Finished trial — avg_recovery: 0.7270, avg_win_rate: 17.65%\n",
            "[I 2025-07-27 21:21:59,665] Trial 26 finished with value: 0.7270424055409703 and parameters: {'ma_short': 15, 'ma_long': 30, 'rsi_period': 14, 'n_estimators': 100, 'max_depth': None}. Best is trial 5 with value: 0.7396212730710559.\n"
          ]
        },
        {
          "output_type": "stream",
          "name": "stdout",
          "text": [
            "2025-07-27 21:21:59,677 INFO [Trial 27] Starting trial with params {'ma_short': 10, 'ma_long': 20, 'rsi_period': 21, 'n_estimators': 50, 'max_depth': None}\n"
          ]
        },
        {
          "output_type": "stream",
          "name": "stderr",
          "text": [
            "INFO:optuna_rf:Starting trial with params {'ma_short': 10, 'ma_long': 20, 'rsi_period': 21, 'n_estimators': 50, 'max_depth': None}\n"
          ]
        },
        {
          "output_type": "stream",
          "name": "stdout",
          "text": [
            "2025-07-27 21:22:00,054 INFO [Trial 27] Finished trial — avg_recovery: 0.0000, avg_win_rate: 0.00%\n"
          ]
        },
        {
          "output_type": "stream",
          "name": "stderr",
          "text": [
            "INFO:optuna_rf:Finished trial — avg_recovery: 0.0000, avg_win_rate: 0.00%\n",
            "[I 2025-07-27 21:22:00,056] Trial 27 finished with value: 0.0 and parameters: {'ma_short': 10, 'ma_long': 20, 'rsi_period': 21, 'n_estimators': 50, 'max_depth': None}. Best is trial 5 with value: 0.7396212730710559.\n"
          ]
        },
        {
          "output_type": "stream",
          "name": "stdout",
          "text": [
            "2025-07-27 21:22:00,068 INFO [Trial 28] Starting trial with params {'ma_short': 15, 'ma_long': 20, 'rsi_period': 21, 'n_estimators': 50, 'max_depth': 10}\n"
          ]
        },
        {
          "output_type": "stream",
          "name": "stderr",
          "text": [
            "INFO:optuna_rf:Starting trial with params {'ma_short': 15, 'ma_long': 20, 'rsi_period': 21, 'n_estimators': 50, 'max_depth': 10}\n"
          ]
        },
        {
          "output_type": "stream",
          "name": "stdout",
          "text": [
            "2025-07-27 21:22:00,429 INFO [Trial 28] Finished trial — avg_recovery: 0.0000, avg_win_rate: 0.00%\n"
          ]
        },
        {
          "output_type": "stream",
          "name": "stderr",
          "text": [
            "INFO:optuna_rf:Finished trial — avg_recovery: 0.0000, avg_win_rate: 0.00%\n",
            "[I 2025-07-27 21:22:00,432] Trial 28 finished with value: 0.0 and parameters: {'ma_short': 15, 'ma_long': 10, 'rsi_period': 21, 'n_estimators': 50, 'max_depth': 10}. Best is trial 5 with value: 0.7396212730710559.\n"
          ]
        },
        {
          "output_type": "stream",
          "name": "stdout",
          "text": [
            "2025-07-27 21:22:00,446 INFO [Trial 29] Starting trial with params {'ma_short': 15, 'ma_long': 20, 'rsi_period': 21, 'n_estimators': 50, 'max_depth': 5}\n"
          ]
        },
        {
          "output_type": "stream",
          "name": "stderr",
          "text": [
            "INFO:optuna_rf:Starting trial with params {'ma_short': 15, 'ma_long': 20, 'rsi_period': 21, 'n_estimators': 50, 'max_depth': 5}\n"
          ]
        },
        {
          "output_type": "stream",
          "name": "stdout",
          "text": [
            "2025-07-27 21:22:00,751 INFO [Trial 29] Finished trial — avg_recovery: 0.0000, avg_win_rate: 0.00%\n"
          ]
        },
        {
          "output_type": "stream",
          "name": "stderr",
          "text": [
            "INFO:optuna_rf:Finished trial — avg_recovery: 0.0000, avg_win_rate: 0.00%\n",
            "[I 2025-07-27 21:22:00,754] Trial 29 finished with value: 0.0 and parameters: {'ma_short': 15, 'ma_long': 20, 'rsi_period': 21, 'n_estimators': 50, 'max_depth': 5}. Best is trial 5 with value: 0.7396212730710559.\n"
          ]
        },
        {
          "output_type": "stream",
          "name": "stdout",
          "text": [
            "2025-07-27 21:22:00,766 INFO [Trial 30] Starting trial with params {'ma_short': 15, 'ma_long': 20, 'rsi_period': 21, 'n_estimators': 50, 'max_depth': 5}\n"
          ]
        },
        {
          "output_type": "stream",
          "name": "stderr",
          "text": [
            "INFO:optuna_rf:Starting trial with params {'ma_short': 15, 'ma_long': 20, 'rsi_period': 21, 'n_estimators': 50, 'max_depth': 5}\n"
          ]
        },
        {
          "output_type": "stream",
          "name": "stdout",
          "text": [
            "2025-07-27 21:22:01,092 INFO [Trial 30] Finished trial — avg_recovery: 0.0000, avg_win_rate: 0.00%\n"
          ]
        },
        {
          "output_type": "stream",
          "name": "stderr",
          "text": [
            "INFO:optuna_rf:Finished trial — avg_recovery: 0.0000, avg_win_rate: 0.00%\n",
            "[I 2025-07-27 21:22:01,095] Trial 30 finished with value: 0.0 and parameters: {'ma_short': 15, 'ma_long': 10, 'rsi_period': 21, 'n_estimators': 50, 'max_depth': 5}. Best is trial 5 with value: 0.7396212730710559.\n"
          ]
        },
        {
          "output_type": "stream",
          "name": "stdout",
          "text": [
            "2025-07-27 21:22:01,110 INFO [Trial 31] Starting trial with params {'ma_short': 15, 'ma_long': 20, 'rsi_period': 21, 'n_estimators': 50, 'max_depth': None}\n"
          ]
        },
        {
          "output_type": "stream",
          "name": "stderr",
          "text": [
            "INFO:optuna_rf:Starting trial with params {'ma_short': 15, 'ma_long': 20, 'rsi_period': 21, 'n_estimators': 50, 'max_depth': None}\n"
          ]
        },
        {
          "output_type": "stream",
          "name": "stdout",
          "text": [
            "2025-07-27 21:22:01,501 INFO [Trial 31] Finished trial — avg_recovery: 0.7396, avg_win_rate: 17.66%\n"
          ]
        },
        {
          "output_type": "stream",
          "name": "stderr",
          "text": [
            "INFO:optuna_rf:Finished trial — avg_recovery: 0.7396, avg_win_rate: 17.66%\n",
            "[I 2025-07-27 21:22:01,503] Trial 31 finished with value: 0.7396212730710559 and parameters: {'ma_short': 15, 'ma_long': 20, 'rsi_period': 21, 'n_estimators': 50, 'max_depth': None}. Best is trial 5 with value: 0.7396212730710559.\n"
          ]
        },
        {
          "output_type": "stream",
          "name": "stdout",
          "text": [
            "2025-07-27 21:22:01,516 INFO [Trial 32] Starting trial with params {'ma_short': 15, 'ma_long': 20, 'rsi_period': 21, 'n_estimators': 50, 'max_depth': None}\n"
          ]
        },
        {
          "output_type": "stream",
          "name": "stderr",
          "text": [
            "INFO:optuna_rf:Starting trial with params {'ma_short': 15, 'ma_long': 20, 'rsi_period': 21, 'n_estimators': 50, 'max_depth': None}\n"
          ]
        },
        {
          "output_type": "stream",
          "name": "stdout",
          "text": [
            "2025-07-27 21:22:01,880 INFO [Trial 32] Finished trial — avg_recovery: 0.7396, avg_win_rate: 17.66%\n"
          ]
        },
        {
          "output_type": "stream",
          "name": "stderr",
          "text": [
            "INFO:optuna_rf:Finished trial — avg_recovery: 0.7396, avg_win_rate: 17.66%\n",
            "[I 2025-07-27 21:22:01,882] Trial 32 finished with value: 0.7396212730710559 and parameters: {'ma_short': 15, 'ma_long': 20, 'rsi_period': 21, 'n_estimators': 50, 'max_depth': None}. Best is trial 5 with value: 0.7396212730710559.\n"
          ]
        },
        {
          "output_type": "stream",
          "name": "stdout",
          "text": [
            "2025-07-27 21:22:01,894 INFO [Trial 33] Starting trial with params {'ma_short': 15, 'ma_long': 20, 'rsi_period': 21, 'n_estimators': 50, 'max_depth': None}\n"
          ]
        },
        {
          "output_type": "stream",
          "name": "stderr",
          "text": [
            "INFO:optuna_rf:Starting trial with params {'ma_short': 15, 'ma_long': 20, 'rsi_period': 21, 'n_estimators': 50, 'max_depth': None}\n"
          ]
        },
        {
          "output_type": "stream",
          "name": "stdout",
          "text": [
            "2025-07-27 21:22:02,283 INFO [Trial 33] Finished trial — avg_recovery: 0.7396, avg_win_rate: 17.66%\n"
          ]
        },
        {
          "output_type": "stream",
          "name": "stderr",
          "text": [
            "INFO:optuna_rf:Finished trial — avg_recovery: 0.7396, avg_win_rate: 17.66%\n",
            "[I 2025-07-27 21:22:02,285] Trial 33 finished with value: 0.7396212730710559 and parameters: {'ma_short': 15, 'ma_long': 20, 'rsi_period': 21, 'n_estimators': 50, 'max_depth': None}. Best is trial 5 with value: 0.7396212730710559.\n"
          ]
        },
        {
          "output_type": "stream",
          "name": "stdout",
          "text": [
            "2025-07-27 21:22:02,296 INFO [Trial 34] Starting trial with params {'ma_short': 15, 'ma_long': 20, 'rsi_period': 14, 'n_estimators': 50, 'max_depth': None}\n"
          ]
        },
        {
          "output_type": "stream",
          "name": "stderr",
          "text": [
            "INFO:optuna_rf:Starting trial with params {'ma_short': 15, 'ma_long': 20, 'rsi_period': 14, 'n_estimators': 50, 'max_depth': None}\n"
          ]
        },
        {
          "output_type": "stream",
          "name": "stdout",
          "text": [
            "2025-07-27 21:22:02,654 INFO [Trial 34] Finished trial — avg_recovery: 0.0000, avg_win_rate: 0.00%\n"
          ]
        },
        {
          "output_type": "stream",
          "name": "stderr",
          "text": [
            "INFO:optuna_rf:Finished trial — avg_recovery: 0.0000, avg_win_rate: 0.00%\n",
            "[I 2025-07-27 21:22:02,656] Trial 34 finished with value: 0.0 and parameters: {'ma_short': 15, 'ma_long': 10, 'rsi_period': 14, 'n_estimators': 50, 'max_depth': None}. Best is trial 5 with value: 0.7396212730710559.\n"
          ]
        },
        {
          "output_type": "stream",
          "name": "stdout",
          "text": [
            "2025-07-27 21:22:02,668 INFO [Trial 35] Starting trial with params {'ma_short': 15, 'ma_long': 30, 'rsi_period': 21, 'n_estimators': 100, 'max_depth': None}\n"
          ]
        },
        {
          "output_type": "stream",
          "name": "stderr",
          "text": [
            "INFO:optuna_rf:Starting trial with params {'ma_short': 15, 'ma_long': 30, 'rsi_period': 21, 'n_estimators': 100, 'max_depth': None}\n"
          ]
        },
        {
          "output_type": "stream",
          "name": "stdout",
          "text": [
            "2025-07-27 21:22:03,358 INFO [Trial 35] Finished trial — avg_recovery: -0.3430, avg_win_rate: 16.57%\n"
          ]
        },
        {
          "output_type": "stream",
          "name": "stderr",
          "text": [
            "INFO:optuna_rf:Finished trial — avg_recovery: -0.3430, avg_win_rate: 16.57%\n",
            "[I 2025-07-27 21:22:03,360] Trial 35 finished with value: -0.3429766100539579 and parameters: {'ma_short': 15, 'ma_long': 30, 'rsi_period': 21, 'n_estimators': 100, 'max_depth': None}. Best is trial 5 with value: 0.7396212730710559.\n"
          ]
        },
        {
          "output_type": "stream",
          "name": "stdout",
          "text": [
            "2025-07-27 21:22:03,372 INFO [Trial 36] Starting trial with params {'ma_short': 15, 'ma_long': 20, 'rsi_period': 14, 'n_estimators': 50, 'max_depth': 10}\n"
          ]
        },
        {
          "output_type": "stream",
          "name": "stderr",
          "text": [
            "INFO:optuna_rf:Starting trial with params {'ma_short': 15, 'ma_long': 20, 'rsi_period': 14, 'n_estimators': 50, 'max_depth': 10}\n"
          ]
        },
        {
          "output_type": "stream",
          "name": "stdout",
          "text": [
            "2025-07-27 21:22:03,845 INFO [Trial 36] Finished trial — avg_recovery: 0.5091, avg_win_rate: 20.19%\n"
          ]
        },
        {
          "output_type": "stream",
          "name": "stderr",
          "text": [
            "INFO:optuna_rf:Finished trial — avg_recovery: 0.5091, avg_win_rate: 20.19%\n",
            "[I 2025-07-27 21:22:03,846] Trial 36 finished with value: 0.5091257298505041 and parameters: {'ma_short': 15, 'ma_long': 20, 'rsi_period': 14, 'n_estimators': 50, 'max_depth': 10}. Best is trial 5 with value: 0.7396212730710559.\n"
          ]
        },
        {
          "output_type": "stream",
          "name": "stdout",
          "text": [
            "2025-07-27 21:22:03,867 INFO [Trial 37] Starting trial with params {'ma_short': 15, 'ma_long': 20, 'rsi_period': 21, 'n_estimators': 50, 'max_depth': None}\n"
          ]
        },
        {
          "output_type": "stream",
          "name": "stderr",
          "text": [
            "INFO:optuna_rf:Starting trial with params {'ma_short': 15, 'ma_long': 20, 'rsi_period': 21, 'n_estimators': 50, 'max_depth': None}\n"
          ]
        },
        {
          "output_type": "stream",
          "name": "stdout",
          "text": [
            "2025-07-27 21:22:04,515 INFO [Trial 37] Finished trial — avg_recovery: 0.7396, avg_win_rate: 17.66%\n"
          ]
        },
        {
          "output_type": "stream",
          "name": "stderr",
          "text": [
            "INFO:optuna_rf:Finished trial — avg_recovery: 0.7396, avg_win_rate: 17.66%\n",
            "[I 2025-07-27 21:22:04,519] Trial 37 finished with value: 0.7396212730710559 and parameters: {'ma_short': 15, 'ma_long': 10, 'rsi_period': 21, 'n_estimators': 50, 'max_depth': None}. Best is trial 5 with value: 0.7396212730710559.\n"
          ]
        },
        {
          "output_type": "stream",
          "name": "stdout",
          "text": [
            "2025-07-27 21:22:04,536 INFO [Trial 38] Starting trial with params {'ma_short': 5, 'ma_long': 30, 'rsi_period': 14, 'n_estimators': 100, 'max_depth': None}\n"
          ]
        },
        {
          "output_type": "stream",
          "name": "stderr",
          "text": [
            "INFO:optuna_rf:Starting trial with params {'ma_short': 5, 'ma_long': 30, 'rsi_period': 14, 'n_estimators': 100, 'max_depth': None}\n"
          ]
        },
        {
          "output_type": "stream",
          "name": "stdout",
          "text": [
            "2025-07-27 21:22:05,505 INFO [Trial 38] Finished trial — avg_recovery: 0.0000, avg_win_rate: 0.00%\n"
          ]
        },
        {
          "output_type": "stream",
          "name": "stderr",
          "text": [
            "INFO:optuna_rf:Finished trial — avg_recovery: 0.0000, avg_win_rate: 0.00%\n",
            "[I 2025-07-27 21:22:05,507] Trial 38 finished with value: 0.0 and parameters: {'ma_short': 5, 'ma_long': 30, 'rsi_period': 14, 'n_estimators': 100, 'max_depth': None}. Best is trial 5 with value: 0.7396212730710559.\n"
          ]
        },
        {
          "output_type": "stream",
          "name": "stdout",
          "text": [
            "2025-07-27 21:22:05,520 INFO [Trial 39] Starting trial with params {'ma_short': 15, 'ma_long': 20, 'rsi_period': 21, 'n_estimators': 50, 'max_depth': None}\n"
          ]
        },
        {
          "output_type": "stream",
          "name": "stderr",
          "text": [
            "INFO:optuna_rf:Starting trial with params {'ma_short': 15, 'ma_long': 20, 'rsi_period': 21, 'n_estimators': 50, 'max_depth': None}\n"
          ]
        },
        {
          "output_type": "stream",
          "name": "stdout",
          "text": [
            "2025-07-27 21:22:05,882 INFO [Trial 39] Finished trial — avg_recovery: 0.7396, avg_win_rate: 17.66%\n"
          ]
        },
        {
          "output_type": "stream",
          "name": "stderr",
          "text": [
            "INFO:optuna_rf:Finished trial — avg_recovery: 0.7396, avg_win_rate: 17.66%\n",
            "[I 2025-07-27 21:22:05,885] Trial 39 finished with value: 0.7396212730710559 and parameters: {'ma_short': 15, 'ma_long': 20, 'rsi_period': 21, 'n_estimators': 50, 'max_depth': None}. Best is trial 5 with value: 0.7396212730710559.\n"
          ]
        },
        {
          "output_type": "stream",
          "name": "stdout",
          "text": [
            "2025-07-27 21:22:05,898 INFO [Trial 40] Starting trial with params {'ma_short': 15, 'ma_long': 20, 'rsi_period': 21, 'n_estimators': 50, 'max_depth': None}\n"
          ]
        },
        {
          "output_type": "stream",
          "name": "stderr",
          "text": [
            "INFO:optuna_rf:Starting trial with params {'ma_short': 15, 'ma_long': 20, 'rsi_period': 21, 'n_estimators': 50, 'max_depth': None}\n"
          ]
        },
        {
          "output_type": "stream",
          "name": "stdout",
          "text": [
            "2025-07-27 21:22:06,284 INFO [Trial 40] Finished trial — avg_recovery: 0.7396, avg_win_rate: 17.66%\n"
          ]
        },
        {
          "output_type": "stream",
          "name": "stderr",
          "text": [
            "INFO:optuna_rf:Finished trial — avg_recovery: 0.7396, avg_win_rate: 17.66%\n",
            "[I 2025-07-27 21:22:06,285] Trial 40 finished with value: 0.7396212730710559 and parameters: {'ma_short': 15, 'ma_long': 20, 'rsi_period': 21, 'n_estimators': 50, 'max_depth': None}. Best is trial 5 with value: 0.7396212730710559.\n"
          ]
        },
        {
          "output_type": "stream",
          "name": "stdout",
          "text": [
            "2025-07-27 21:22:06,300 INFO [Trial 41] Starting trial with params {'ma_short': 15, 'ma_long': 20, 'rsi_period': 21, 'n_estimators': 50, 'max_depth': None}\n"
          ]
        },
        {
          "output_type": "stream",
          "name": "stderr",
          "text": [
            "INFO:optuna_rf:Starting trial with params {'ma_short': 15, 'ma_long': 20, 'rsi_period': 21, 'n_estimators': 50, 'max_depth': None}\n"
          ]
        },
        {
          "output_type": "stream",
          "name": "stdout",
          "text": [
            "2025-07-27 21:22:06,686 INFO [Trial 41] Finished trial — avg_recovery: 0.7396, avg_win_rate: 17.66%\n"
          ]
        },
        {
          "output_type": "stream",
          "name": "stderr",
          "text": [
            "INFO:optuna_rf:Finished trial — avg_recovery: 0.7396, avg_win_rate: 17.66%\n",
            "[I 2025-07-27 21:22:06,688] Trial 41 finished with value: 0.7396212730710559 and parameters: {'ma_short': 15, 'ma_long': 20, 'rsi_period': 21, 'n_estimators': 50, 'max_depth': None}. Best is trial 5 with value: 0.7396212730710559.\n"
          ]
        },
        {
          "output_type": "stream",
          "name": "stdout",
          "text": [
            "2025-07-27 21:22:06,701 INFO [Trial 42] Starting trial with params {'ma_short': 15, 'ma_long': 20, 'rsi_period': 21, 'n_estimators': 50, 'max_depth': None}\n"
          ]
        },
        {
          "output_type": "stream",
          "name": "stderr",
          "text": [
            "INFO:optuna_rf:Starting trial with params {'ma_short': 15, 'ma_long': 20, 'rsi_period': 21, 'n_estimators': 50, 'max_depth': None}\n"
          ]
        },
        {
          "output_type": "stream",
          "name": "stdout",
          "text": [
            "2025-07-27 21:22:07,078 INFO [Trial 42] Finished trial — avg_recovery: 0.7396, avg_win_rate: 17.66%\n"
          ]
        },
        {
          "output_type": "stream",
          "name": "stderr",
          "text": [
            "INFO:optuna_rf:Finished trial — avg_recovery: 0.7396, avg_win_rate: 17.66%\n",
            "[I 2025-07-27 21:22:07,079] Trial 42 finished with value: 0.7396212730710559 and parameters: {'ma_short': 15, 'ma_long': 20, 'rsi_period': 21, 'n_estimators': 50, 'max_depth': None}. Best is trial 5 with value: 0.7396212730710559.\n"
          ]
        },
        {
          "output_type": "stream",
          "name": "stdout",
          "text": [
            "2025-07-27 21:22:07,096 INFO [Trial 43] Starting trial with params {'ma_short': 15, 'ma_long': 20, 'rsi_period': 21, 'n_estimators': 50, 'max_depth': None}\n"
          ]
        },
        {
          "output_type": "stream",
          "name": "stderr",
          "text": [
            "INFO:optuna_rf:Starting trial with params {'ma_short': 15, 'ma_long': 20, 'rsi_period': 21, 'n_estimators': 50, 'max_depth': None}\n"
          ]
        },
        {
          "output_type": "stream",
          "name": "stdout",
          "text": [
            "2025-07-27 21:22:07,479 INFO [Trial 43] Finished trial — avg_recovery: 0.7396, avg_win_rate: 17.66%\n"
          ]
        },
        {
          "output_type": "stream",
          "name": "stderr",
          "text": [
            "INFO:optuna_rf:Finished trial — avg_recovery: 0.7396, avg_win_rate: 17.66%\n",
            "[I 2025-07-27 21:22:07,480] Trial 43 finished with value: 0.7396212730710559 and parameters: {'ma_short': 15, 'ma_long': 20, 'rsi_period': 21, 'n_estimators': 50, 'max_depth': None}. Best is trial 5 with value: 0.7396212730710559.\n"
          ]
        },
        {
          "output_type": "stream",
          "name": "stdout",
          "text": [
            "2025-07-27 21:22:07,494 INFO [Trial 44] Starting trial with params {'ma_short': 15, 'ma_long': 20, 'rsi_period': 21, 'n_estimators': 50, 'max_depth': None}\n"
          ]
        },
        {
          "output_type": "stream",
          "name": "stderr",
          "text": [
            "INFO:optuna_rf:Starting trial with params {'ma_short': 15, 'ma_long': 20, 'rsi_period': 21, 'n_estimators': 50, 'max_depth': None}\n"
          ]
        },
        {
          "output_type": "stream",
          "name": "stdout",
          "text": [
            "2025-07-27 21:22:07,856 INFO [Trial 44] Finished trial — avg_recovery: 0.7396, avg_win_rate: 17.66%\n"
          ]
        },
        {
          "output_type": "stream",
          "name": "stderr",
          "text": [
            "INFO:optuna_rf:Finished trial — avg_recovery: 0.7396, avg_win_rate: 17.66%\n",
            "[I 2025-07-27 21:22:07,859] Trial 44 finished with value: 0.7396212730710559 and parameters: {'ma_short': 15, 'ma_long': 20, 'rsi_period': 21, 'n_estimators': 50, 'max_depth': None}. Best is trial 5 with value: 0.7396212730710559.\n"
          ]
        },
        {
          "output_type": "stream",
          "name": "stdout",
          "text": [
            "2025-07-27 21:22:07,874 INFO [Trial 45] Starting trial with params {'ma_short': 5, 'ma_long': 20, 'rsi_period': 21, 'n_estimators': 50, 'max_depth': 5}\n"
          ]
        },
        {
          "output_type": "stream",
          "name": "stderr",
          "text": [
            "INFO:optuna_rf:Starting trial with params {'ma_short': 5, 'ma_long': 20, 'rsi_period': 21, 'n_estimators': 50, 'max_depth': 5}\n"
          ]
        },
        {
          "output_type": "stream",
          "name": "stdout",
          "text": [
            "2025-07-27 21:22:08,195 INFO [Trial 45] Finished trial — avg_recovery: 0.0000, avg_win_rate: 0.00%\n"
          ]
        },
        {
          "output_type": "stream",
          "name": "stderr",
          "text": [
            "INFO:optuna_rf:Finished trial — avg_recovery: 0.0000, avg_win_rate: 0.00%\n",
            "[I 2025-07-27 21:22:08,200] Trial 45 finished with value: 0.0 and parameters: {'ma_short': 5, 'ma_long': 20, 'rsi_period': 21, 'n_estimators': 50, 'max_depth': 5}. Best is trial 5 with value: 0.7396212730710559.\n"
          ]
        },
        {
          "output_type": "stream",
          "name": "stdout",
          "text": [
            "2025-07-27 21:22:08,216 INFO [Trial 46] Starting trial with params {'ma_short': 10, 'ma_long': 20, 'rsi_period': 14, 'n_estimators': 100, 'max_depth': None}\n"
          ]
        },
        {
          "output_type": "stream",
          "name": "stderr",
          "text": [
            "INFO:optuna_rf:Starting trial with params {'ma_short': 10, 'ma_long': 20, 'rsi_period': 14, 'n_estimators': 100, 'max_depth': None}\n"
          ]
        },
        {
          "output_type": "stream",
          "name": "stdout",
          "text": [
            "2025-07-27 21:22:08,928 INFO [Trial 46] Finished trial — avg_recovery: 0.0000, avg_win_rate: 0.00%\n"
          ]
        },
        {
          "output_type": "stream",
          "name": "stderr",
          "text": [
            "INFO:optuna_rf:Finished trial — avg_recovery: 0.0000, avg_win_rate: 0.00%\n",
            "[I 2025-07-27 21:22:08,930] Trial 46 finished with value: 0.0 and parameters: {'ma_short': 10, 'ma_long': 20, 'rsi_period': 14, 'n_estimators': 100, 'max_depth': None}. Best is trial 5 with value: 0.7396212730710559.\n"
          ]
        },
        {
          "output_type": "stream",
          "name": "stdout",
          "text": [
            "2025-07-27 21:22:08,948 INFO [Trial 47] Starting trial with params {'ma_short': 15, 'ma_long': 20, 'rsi_period': 21, 'n_estimators': 50, 'max_depth': 10}\n"
          ]
        },
        {
          "output_type": "stream",
          "name": "stderr",
          "text": [
            "INFO:optuna_rf:Starting trial with params {'ma_short': 15, 'ma_long': 20, 'rsi_period': 21, 'n_estimators': 50, 'max_depth': 10}\n"
          ]
        },
        {
          "output_type": "stream",
          "name": "stdout",
          "text": [
            "2025-07-27 21:22:09,301 INFO [Trial 47] Finished trial — avg_recovery: 0.0000, avg_win_rate: 0.00%\n"
          ]
        },
        {
          "output_type": "stream",
          "name": "stderr",
          "text": [
            "INFO:optuna_rf:Finished trial — avg_recovery: 0.0000, avg_win_rate: 0.00%\n",
            "[I 2025-07-27 21:22:09,302] Trial 47 finished with value: 0.0 and parameters: {'ma_short': 15, 'ma_long': 10, 'rsi_period': 21, 'n_estimators': 50, 'max_depth': 10}. Best is trial 5 with value: 0.7396212730710559.\n"
          ]
        },
        {
          "output_type": "stream",
          "name": "stdout",
          "text": [
            "2025-07-27 21:22:09,315 INFO [Trial 48] Starting trial with params {'ma_short': 10, 'ma_long': 20, 'rsi_period': 21, 'n_estimators': 50, 'max_depth': None}\n"
          ]
        },
        {
          "output_type": "stream",
          "name": "stderr",
          "text": [
            "INFO:optuna_rf:Starting trial with params {'ma_short': 10, 'ma_long': 20, 'rsi_period': 21, 'n_estimators': 50, 'max_depth': None}\n"
          ]
        },
        {
          "output_type": "stream",
          "name": "stdout",
          "text": [
            "2025-07-27 21:22:09,743 INFO [Trial 48] Finished trial — avg_recovery: 0.0000, avg_win_rate: 0.00%\n"
          ]
        },
        {
          "output_type": "stream",
          "name": "stderr",
          "text": [
            "INFO:optuna_rf:Finished trial — avg_recovery: 0.0000, avg_win_rate: 0.00%\n",
            "[I 2025-07-27 21:22:09,745] Trial 48 finished with value: 0.0 and parameters: {'ma_short': 10, 'ma_long': 20, 'rsi_period': 21, 'n_estimators': 50, 'max_depth': None}. Best is trial 5 with value: 0.7396212730710559.\n"
          ]
        },
        {
          "output_type": "stream",
          "name": "stdout",
          "text": [
            "2025-07-27 21:22:09,758 INFO [Trial 49] Starting trial with params {'ma_short': 15, 'ma_long': 30, 'rsi_period': 21, 'n_estimators': 50, 'max_depth': None}\n"
          ]
        },
        {
          "output_type": "stream",
          "name": "stderr",
          "text": [
            "INFO:optuna_rf:Starting trial with params {'ma_short': 15, 'ma_long': 30, 'rsi_period': 21, 'n_estimators': 50, 'max_depth': None}\n"
          ]
        },
        {
          "output_type": "stream",
          "name": "stdout",
          "text": [
            "2025-07-27 21:22:10,122 INFO [Trial 49] Finished trial — avg_recovery: -0.2274, avg_win_rate: 17.06%\n"
          ]
        },
        {
          "output_type": "stream",
          "name": "stderr",
          "text": [
            "INFO:optuna_rf:Finished trial — avg_recovery: -0.2274, avg_win_rate: 17.06%\n",
            "[I 2025-07-27 21:22:10,124] Trial 49 finished with value: -0.22736604764372803 and parameters: {'ma_short': 15, 'ma_long': 30, 'rsi_period': 21, 'n_estimators': 50, 'max_depth': None}. Best is trial 5 with value: 0.7396212730710559.\n"
          ]
        }
      ]
    },
    {
      "cell_type": "code",
      "source": [
        "\n",
        "# 8. Resultados finais\n",
        "print(\"\\nBest trial:\")\n",
        "best = study.best_trial\n",
        "print(f\"  Trial #: {best.number}\")\n",
        "print(f\"  Params: {best.params}\")\n",
        "print(f\"  Avg WF Recovery: {best.value:.4f}\")\n",
        "print(f\"\\nVeja '{LOG_FILENAME}' e '{CSV_FILENAME}' para logs e auditoria detalhada.\")"
      ],
      "metadata": {
        "id": "gsuAy8JhwuRL",
        "outputId": "ffcace61-fd89-47c3-ada5-209cc2dde861",
        "colab": {
          "base_uri": "https://localhost:8080/"
        }
      },
      "execution_count": 20,
      "outputs": [
        {
          "output_type": "stream",
          "name": "stdout",
          "text": [
            "\n",
            "Best trial:\n",
            "  Trial #: 5\n",
            "  Params: {'ma_short': 15, 'ma_long': 10, 'rsi_period': 21, 'n_estimators': 50, 'max_depth': None}\n",
            "  Avg WF Recovery: 0.7396\n",
            "\n",
            "Veja 'optimization.log' e 'trial_results.csv' para logs e auditoria detalhada.\n"
          ]
        }
      ]
    }
  ],
  "metadata": {
    "kernelspec": {
      "display_name": "Python 3",
      "language": "python",
      "name": "python3"
    },
    "language_info": {
      "codemirror_mode": {
        "name": "ipython",
        "version": 3
      },
      "file_extension": ".py",
      "mimetype": "text/x-python",
      "name": "python",
      "nbconvert_exporter": "python",
      "pygments_lexer": "ipython3",
      "version": "3.7.3"
    },
    "colab": {
      "provenance": [],
      "include_colab_link": true
    }
  },
  "nbformat": 4,
  "nbformat_minor": 0
}