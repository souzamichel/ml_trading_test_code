{
  "cells": [
    {
      "cell_type": "markdown",
      "metadata": {
        "id": "view-in-github",
        "colab_type": "text"
      },
      "source": [
        "<a href=\"https://colab.research.google.com/github/souzamichel/ml_trading_test_code/blob/main/ml_trading_backtest_code.ipynb\" target=\"_parent\"><img src=\"https://colab.research.google.com/assets/colab-badge.svg\" alt=\"Open In Colab\"/></a>"
      ]
    },
    {
      "cell_type": "code",
      "source": [
        "import sys\n",
        "import subprocess\n",
        "\n",
        "# Ensure optuna is installed\n",
        "try:\n",
        "    import optuna\n",
        "except ImportError:\n",
        "    subprocess.check_call([sys.executable, \"-m\", \"pip\", \"install\", \"optuna\"])\n",
        "    import optuna\n",
        "\n",
        "import numpy as np\n",
        "import pandas as pd\n",
        "import yfinance as yf\n",
        "from sklearn.ensemble import RandomForestClassifier\n",
        "from sklearn.model_selection import TimeSeriesSplit\n",
        "from joblib import Parallel, delayed"
      ],
      "metadata": {
        "id": "ry-woJxXYV3h"
      },
      "execution_count": 2,
      "outputs": []
    },
    {
      "cell_type": "code",
      "source": [
        "# 1. Função RSI\n",
        "def compute_rsi(series: pd.Series, period: int = 14) -> pd.Series:\n",
        "    delta    = series.diff()\n",
        "    gain     = delta.clip(lower=0)\n",
        "    loss     = -delta.clip(upper=0)\n",
        "    avg_gain = gain.rolling(period).mean()\n",
        "    avg_loss = loss.rolling(period).mean()\n",
        "    rs       = avg_gain / avg_loss\n",
        "    return 100 - (100 / (1 + rs))"
      ],
      "metadata": {
        "id": "Vg0ti4XpYdsi"
      },
      "execution_count": 3,
      "outputs": []
    },
    {
      "cell_type": "code",
      "source": [
        "# 2. Métrica de performance (Recovery Factor + Win Rate)\n",
        "def calculate_metrics(returns: pd.Series) -> tuple:\n",
        "    cumulative  = (1 + returns).cumprod() - 1\n",
        "    running_max = cumulative.cummax()\n",
        "    drawdown    = cumulative - running_max\n",
        "    max_dd      = drawdown.min()\n",
        "    total_ret   = cumulative.iloc[-1]\n",
        "    win_rate    = (returns > 0).sum() / len(returns) if len(returns) else 0.0\n",
        "    recovery    = (total_ret / abs(max_dd)) if max_dd < 0 else np.nan\n",
        "    return recovery, win_rate"
      ],
      "metadata": {
        "id": "buwdcbuvYnfS"
      },
      "execution_count": 4,
      "outputs": []
    },
    {
      "cell_type": "code",
      "source": [
        "# 3. Carrega dados históricos\n",
        "symbol = \"AAPL\"\n",
        "data = yf.download(symbol, period=\"5y\", interval=\"1d\",\n",
        "                   auto_adjust=True, progress=False)\n",
        "data[\"Return\"] = data[\"Close\"].pct_change()\n",
        "data.dropna(inplace=True)"
      ],
      "metadata": {
        "id": "j2UwRszyXj49"
      },
      "execution_count": 5,
      "outputs": []
    },
    {
      "cell_type": "code",
      "source": [
        "\n",
        "# 4. Função-objetivo para Optuna\n",
        "def objective(trial):\n",
        "    # Espaço de busca\n",
        "    ma_short    = trial.suggest_int(\"ma_short\", 20, 200, step=20)\n",
        "    ma_long     = trial.suggest_int(\"ma_long\", 20, 400, step=20)\n",
        "    if ma_long <= ma_short:\n",
        "        ma_long = ma_short + 5\n",
        "    rsi_period  = trial.suggest_categorical(\"rsi_period\", [14, 21])\n",
        "    n_estimators= trial.suggest_categorical(\"n_estimators\", [50, 100])\n",
        "    max_depth   = trial.suggest_categorical(\"max_depth\", [None, 5, 10])\n",
        "\n",
        "    # Prepara o DataFrame de sinais\n",
        "    df = data.copy()\n",
        "    df[\"MA_short\"] = df[\"Close\"].rolling(ma_short).mean()\n",
        "    df[\"MA_long\"]  = df[\"Close\"].rolling(ma_long).mean()\n",
        "    df[\"RSI\"]      = compute_rsi(df[\"Close\"], rsi_period)\n",
        "    df.dropna(inplace=True)\n",
        "\n",
        "    # Gera alvo binário (1 se fechar em alta no próximo dia)\n",
        "    fut = df[\"Close\"].pct_change().shift(-1)\n",
        "    df[\"Target\"] = (fut > 0).astype(int)\n",
        "    df.dropna(inplace=True)\n",
        "\n",
        "    X   = df[[\"MA_short\", \"MA_long\", \"RSI\"]]\n",
        "    y   = df[\"Target\"]\n",
        "    ret = df[\"Close\"].pct_change().loc[X.index]\n",
        "\n",
        "    tscv = TimeSeriesSplit(n_splits=5)\n",
        "\n",
        "    # Avalia cada fold em paralelo\n",
        "    def eval_fold(train_idx, test_idx):\n",
        "        X_tr, X_te = X.iloc[train_idx], X.iloc[test_idx]\n",
        "        y_tr, y_te = y.iloc[train_idx], y.iloc[test_idx]\n",
        "        ret_te      = ret.iloc[test_idx]\n",
        "\n",
        "        if y_tr.nunique() < 2 or len(X_te) < 2:\n",
        "            return np.nan, np.nan\n",
        "\n",
        "        model = RandomForestClassifier(\n",
        "            n_estimators=n_estimators,\n",
        "            max_depth=max_depth,\n",
        "            random_state=42\n",
        "        )\n",
        "        model.fit(X_tr, y_tr)\n",
        "        preds = model.predict(X_te)\n",
        "\n",
        "        df_sig       = pd.DataFrame({\"signal\": preds}, index=X_te.index)\n",
        "        df_sig[\"ret\"] = ret_te\n",
        "        df_sig[\"strat\"] = df_sig[\"signal\"].shift(1, fill_value=0) * df_sig[\"ret\"]\n",
        "\n",
        "        if df_sig[\"strat\"].empty:\n",
        "            return np.nan, np.nan\n",
        "\n",
        "        return calculate_metrics(df_sig[\"strat\"])\n",
        "\n",
        "    # paraleliza os folds\n",
        "    folds = Parallel(n_jobs=-1)(\n",
        "        delayed(eval_fold)(tr, te) for tr, te in tscv.split(X)\n",
        "    )\n",
        "    recovs, wins = zip(*folds)\n",
        "    recovs = np.array(recovs, dtype=float)\n",
        "    recovs = recovs[~np.isnan(recovs)]\n",
        "\n",
        "    # descarta se algum fold falhar\n",
        "    if len(recovs) < tscv.get_n_splits():\n",
        "        return 0.0\n",
        "\n",
        "    return recovs.mean()  # maximizar Recovery Factor médio"
      ],
      "metadata": {
        "collapsed": true,
        "id": "FWFK_dY3YFXm"
      },
      "execution_count": 9,
      "outputs": []
    },
    {
      "cell_type": "code",
      "source": [
        "\n",
        "# 5. Roda otimização\n",
        "study = optuna.create_study(direction=\"maximize\")\n",
        "study.optimize(objective, n_trials=50)"
      ],
      "metadata": {
        "colab": {
          "base_uri": "https://localhost:8080/"
        },
        "id": "NugLwbKiooop",
        "outputId": "ab2f0b53-c78b-4480-8708-b42aa1562f3d"
      },
      "execution_count": 10,
      "outputs": [
        {
          "output_type": "stream",
          "name": "stderr",
          "text": [
            "[I 2025-07-27 21:12:23,266] A new study created in memory with name: no-name-d863430a-19d1-44a0-9d5b-fca6c87d90e5\n",
            "[I 2025-07-27 21:12:23,546] Trial 0 finished with value: 0.955520792900612 and parameters: {'ma_short': 200, 'ma_long': 400, 'rsi_period': 21, 'n_estimators': 50, 'max_depth': 5}. Best is trial 0 with value: 0.955520792900612.\n",
            "[I 2025-07-27 21:12:23,843] Trial 1 finished with value: 2.86638058063068 and parameters: {'ma_short': 200, 'ma_long': 380, 'rsi_period': 14, 'n_estimators': 50, 'max_depth': 10}. Best is trial 1 with value: 2.86638058063068.\n",
            "[I 2025-07-27 21:12:24,368] Trial 2 finished with value: 0.0 and parameters: {'ma_short': 40, 'ma_long': 380, 'rsi_period': 14, 'n_estimators': 100, 'max_depth': 5}. Best is trial 1 with value: 2.86638058063068.\n",
            "[I 2025-07-27 21:12:24,653] Trial 3 finished with value: 0.988667497102641 and parameters: {'ma_short': 160, 'ma_long': 40, 'rsi_period': 21, 'n_estimators': 50, 'max_depth': 5}. Best is trial 1 with value: 2.86638058063068.\n",
            "[I 2025-07-27 21:12:25,152] Trial 4 finished with value: 1.6285917289488652 and parameters: {'ma_short': 80, 'ma_long': 360, 'rsi_period': 14, 'n_estimators': 100, 'max_depth': 5}. Best is trial 1 with value: 2.86638058063068.\n",
            "[I 2025-07-27 21:12:25,775] Trial 5 finished with value: 0.7338941738010024 and parameters: {'ma_short': 20, 'ma_long': 240, 'rsi_period': 21, 'n_estimators': 100, 'max_depth': None}. Best is trial 1 with value: 2.86638058063068.\n",
            "[I 2025-07-27 21:12:26,091] Trial 6 finished with value: 0.0 and parameters: {'ma_short': 60, 'ma_long': 200, 'rsi_period': 21, 'n_estimators': 50, 'max_depth': None}. Best is trial 1 with value: 2.86638058063068.\n",
            "[I 2025-07-27 21:12:26,707] Trial 7 finished with value: 0.007139877948230985 and parameters: {'ma_short': 100, 'ma_long': 260, 'rsi_period': 14, 'n_estimators': 100, 'max_depth': None}. Best is trial 1 with value: 2.86638058063068.\n",
            "[I 2025-07-27 21:12:26,995] Trial 8 finished with value: 1.3521680998645027 and parameters: {'ma_short': 80, 'ma_long': 20, 'rsi_period': 21, 'n_estimators': 50, 'max_depth': 5}. Best is trial 1 with value: 2.86638058063068.\n",
            "[I 2025-07-27 21:12:27,309] Trial 9 finished with value: 0.0 and parameters: {'ma_short': 180, 'ma_long': 200, 'rsi_period': 21, 'n_estimators': 50, 'max_depth': 10}. Best is trial 1 with value: 2.86638058063068.\n",
            "[I 2025-07-27 21:12:27,629] Trial 10 finished with value: 0.0 and parameters: {'ma_short': 140, 'ma_long': 320, 'rsi_period': 14, 'n_estimators': 50, 'max_depth': 10}. Best is trial 1 with value: 2.86638058063068.\n",
            "[I 2025-07-27 21:12:28,199] Trial 11 finished with value: 0.0 and parameters: {'ma_short': 120, 'ma_long': 320, 'rsi_period': 14, 'n_estimators': 100, 'max_depth': 10}. Best is trial 1 with value: 2.86638058063068.\n",
            "[I 2025-07-27 21:12:28,778] Trial 12 finished with value: 2.887586264688596 and parameters: {'ma_short': 100, 'ma_long': 320, 'rsi_period': 14, 'n_estimators': 100, 'max_depth': 10}. Best is trial 12 with value: 2.887586264688596.\n",
            "[I 2025-07-27 21:12:29,357] Trial 13 finished with value: 0.0 and parameters: {'ma_short': 140, 'ma_long': 300, 'rsi_period': 14, 'n_estimators': 100, 'max_depth': 10}. Best is trial 12 with value: 2.887586264688596.\n",
            "[I 2025-07-27 21:12:29,692] Trial 14 finished with value: 1.8727658465236736 and parameters: {'ma_short': 120, 'ma_long': 120, 'rsi_period': 14, 'n_estimators': 50, 'max_depth': 10}. Best is trial 12 with value: 2.887586264688596.\n",
            "[I 2025-07-27 21:12:30,275] Trial 15 finished with value: 0.8122881014097821 and parameters: {'ma_short': 200, 'ma_long': 340, 'rsi_period': 14, 'n_estimators': 100, 'max_depth': 10}. Best is trial 12 with value: 2.887586264688596.\n",
            "[I 2025-07-27 21:12:31,095] Trial 16 finished with value: 0.0 and parameters: {'ma_short': 160, 'ma_long': 280, 'rsi_period': 14, 'n_estimators': 100, 'max_depth': 10}. Best is trial 12 with value: 2.887586264688596.\n",
            "[I 2025-07-27 21:12:31,559] Trial 17 finished with value: 0.0 and parameters: {'ma_short': 80, 'ma_long': 400, 'rsi_period': 14, 'n_estimators': 50, 'max_depth': 10}. Best is trial 12 with value: 2.887586264688596.\n",
            "[I 2025-07-27 21:12:32,441] Trial 18 finished with value: 0.3704285642449231 and parameters: {'ma_short': 100, 'ma_long': 140, 'rsi_period': 14, 'n_estimators': 100, 'max_depth': 10}. Best is trial 12 with value: 2.887586264688596.\n",
            "[I 2025-07-27 21:12:32,768] Trial 19 finished with value: 1.2109196210250806 and parameters: {'ma_short': 160, 'ma_long': 360, 'rsi_period': 14, 'n_estimators': 50, 'max_depth': 10}. Best is trial 12 with value: 2.887586264688596.\n",
            "[I 2025-07-27 21:12:33,410] Trial 20 finished with value: 0.5365424539476752 and parameters: {'ma_short': 60, 'ma_long': 160, 'rsi_period': 14, 'n_estimators': 100, 'max_depth': None}. Best is trial 12 with value: 2.887586264688596.\n",
            "[I 2025-07-27 21:12:33,751] Trial 21 finished with value: 1.8727658465236736 and parameters: {'ma_short': 120, 'ma_long': 100, 'rsi_period': 14, 'n_estimators': 50, 'max_depth': 10}. Best is trial 12 with value: 2.887586264688596.\n",
            "[I 2025-07-27 21:12:34,077] Trial 22 finished with value: 0.2738190682376877 and parameters: {'ma_short': 140, 'ma_long': 100, 'rsi_period': 14, 'n_estimators': 50, 'max_depth': 10}. Best is trial 12 with value: 2.887586264688596.\n",
            "[I 2025-07-27 21:12:34,404] Trial 23 finished with value: 0.0 and parameters: {'ma_short': 180, 'ma_long': 160, 'rsi_period': 14, 'n_estimators': 50, 'max_depth': 10}. Best is trial 12 with value: 2.887586264688596.\n",
            "[I 2025-07-27 21:12:34,736] Trial 24 finished with value: 1.8727658465236736 and parameters: {'ma_short': 120, 'ma_long': 80, 'rsi_period': 14, 'n_estimators': 50, 'max_depth': 10}. Best is trial 12 with value: 2.887586264688596.\n",
            "[I 2025-07-27 21:12:35,055] Trial 25 finished with value: 0.4255213553823058 and parameters: {'ma_short': 100, 'ma_long': 240, 'rsi_period': 14, 'n_estimators': 50, 'max_depth': 10}. Best is trial 12 with value: 2.887586264688596.\n",
            "[I 2025-07-27 21:12:35,379] Trial 26 finished with value: 0.0 and parameters: {'ma_short': 60, 'ma_long': 300, 'rsi_period': 14, 'n_estimators': 50, 'max_depth': 10}. Best is trial 12 with value: 2.887586264688596.\n",
            "[I 2025-07-27 21:12:35,677] Trial 27 finished with value: 1.634986624002115 and parameters: {'ma_short': 180, 'ma_long': 360, 'rsi_period': 14, 'n_estimators': 50, 'max_depth': 10}. Best is trial 12 with value: 2.887586264688596.\n",
            "[I 2025-07-27 21:12:36,338] Trial 28 finished with value: 4.477028326775452 and parameters: {'ma_short': 20, 'ma_long': 60, 'rsi_period': 14, 'n_estimators': 100, 'max_depth': None}. Best is trial 28 with value: 4.477028326775452.\n",
            "[I 2025-07-27 21:12:36,942] Trial 29 finished with value: 0.0 and parameters: {'ma_short': 20, 'ma_long': 400, 'rsi_period': 21, 'n_estimators': 100, 'max_depth': None}. Best is trial 28 with value: 4.477028326775452.\n",
            "[I 2025-07-27 21:12:37,562] Trial 30 finished with value: 0.0 and parameters: {'ma_short': 40, 'ma_long': 220, 'rsi_period': 14, 'n_estimators': 100, 'max_depth': None}. Best is trial 28 with value: 4.477028326775452.\n",
            "[I 2025-07-27 21:12:38,255] Trial 31 finished with value: 0.968076126865585 and parameters: {'ma_short': 200, 'ma_long': 40, 'rsi_period': 14, 'n_estimators': 100, 'max_depth': None}. Best is trial 28 with value: 4.477028326775452.\n",
            "[I 2025-07-27 21:12:38,914] Trial 32 finished with value: 2.622308534808716 and parameters: {'ma_short': 40, 'ma_long': 80, 'rsi_period': 14, 'n_estimators': 100, 'max_depth': None}. Best is trial 28 with value: 4.477028326775452.\n",
            "[I 2025-07-27 21:12:39,566] Trial 33 finished with value: 2.622308534808716 and parameters: {'ma_short': 40, 'ma_long': 80, 'rsi_period': 14, 'n_estimators': 100, 'max_depth': None}. Best is trial 28 with value: 4.477028326775452.\n",
            "[I 2025-07-27 21:12:40,248] Trial 34 finished with value: 0.0 and parameters: {'ma_short': 40, 'ma_long': 60, 'rsi_period': 14, 'n_estimators': 100, 'max_depth': None}. Best is trial 28 with value: 4.477028326775452.\n",
            "[I 2025-07-27 21:12:40,777] Trial 35 finished with value: 0.7148110126894271 and parameters: {'ma_short': 40, 'ma_long': 20, 'rsi_period': 14, 'n_estimators': 100, 'max_depth': 5}. Best is trial 28 with value: 4.477028326775452.\n",
            "[I 2025-07-27 21:12:41,390] Trial 36 finished with value: 0.0 and parameters: {'ma_short': 20, 'ma_long': 380, 'rsi_period': 21, 'n_estimators': 100, 'max_depth': None}. Best is trial 28 with value: 4.477028326775452.\n",
            "[I 2025-07-27 21:12:42,036] Trial 37 finished with value: 0.0 and parameters: {'ma_short': 60, 'ma_long': 180, 'rsi_period': 14, 'n_estimators': 100, 'max_depth': None}. Best is trial 28 with value: 4.477028326775452.\n",
            "[I 2025-07-27 21:12:42,713] Trial 38 finished with value: 0.0 and parameters: {'ma_short': 20, 'ma_long': 40, 'rsi_period': 21, 'n_estimators': 100, 'max_depth': 5}. Best is trial 28 with value: 4.477028326775452.\n",
            "[I 2025-07-27 21:12:43,730] Trial 39 finished with value: 0.0 and parameters: {'ma_short': 80, 'ma_long': 380, 'rsi_period': 14, 'n_estimators': 100, 'max_depth': None}. Best is trial 28 with value: 4.477028326775452.\n",
            "[I 2025-07-27 21:12:44,414] Trial 40 finished with value: 0.09336267576300647 and parameters: {'ma_short': 20, 'ma_long': 260, 'rsi_period': 21, 'n_estimators': 100, 'max_depth': 5}. Best is trial 28 with value: 4.477028326775452.\n",
            "[I 2025-07-27 21:12:45,069] Trial 41 finished with value: 2.622308534808716 and parameters: {'ma_short': 40, 'ma_long': 80, 'rsi_period': 14, 'n_estimators': 100, 'max_depth': None}. Best is trial 28 with value: 4.477028326775452.\n",
            "[I 2025-07-27 21:12:45,749] Trial 42 finished with value: 2.622308534808716 and parameters: {'ma_short': 40, 'ma_long': 80, 'rsi_period': 14, 'n_estimators': 100, 'max_depth': None}. Best is trial 28 with value: 4.477028326775452.\n",
            "[I 2025-07-27 21:12:46,409] Trial 43 finished with value: 3.8559631522123707 and parameters: {'ma_short': 60, 'ma_long': 120, 'rsi_period': 14, 'n_estimators': 100, 'max_depth': None}. Best is trial 28 with value: 4.477028326775452.\n",
            "[I 2025-07-27 21:12:47,048] Trial 44 finished with value: 3.8559631522123707 and parameters: {'ma_short': 60, 'ma_long': 120, 'rsi_period': 14, 'n_estimators': 100, 'max_depth': None}. Best is trial 28 with value: 4.477028326775452.\n",
            "[I 2025-07-27 21:12:47,725] Trial 45 finished with value: 2.5671738047497037 and parameters: {'ma_short': 80, 'ma_long': 120, 'rsi_period': 14, 'n_estimators': 100, 'max_depth': None}. Best is trial 28 with value: 4.477028326775452.\n",
            "[I 2025-07-27 21:12:48,386] Trial 46 finished with value: 0.27818215634362253 and parameters: {'ma_short': 60, 'ma_long': 140, 'rsi_period': 14, 'n_estimators': 100, 'max_depth': None}. Best is trial 28 with value: 4.477028326775452.\n",
            "[I 2025-07-27 21:12:48,989] Trial 47 finished with value: 1.428014189830161 and parameters: {'ma_short': 80, 'ma_long': 340, 'rsi_period': 14, 'n_estimators': 100, 'max_depth': None}. Best is trial 28 with value: 4.477028326775452.\n",
            "[I 2025-07-27 21:12:49,542] Trial 48 finished with value: 0.032804663478765005 and parameters: {'ma_short': 100, 'ma_long': 180, 'rsi_period': 14, 'n_estimators': 100, 'max_depth': 5}. Best is trial 28 with value: 4.477028326775452.\n",
            "[I 2025-07-27 21:12:50,196] Trial 49 finished with value: 1.771735162430124 and parameters: {'ma_short': 100, 'ma_long': 120, 'rsi_period': 21, 'n_estimators': 100, 'max_depth': None}. Best is trial 28 with value: 4.477028326775452.\n"
          ]
        }
      ]
    },
    {
      "cell_type": "code",
      "source": [
        "# 6. Resultados finais\n",
        "best_params = study.best_params\n",
        "print(\"Melhor parametrização encontrada:\")\n",
        "for key, val in best_params.items():\n",
        "    print(f\"  {key}: {val}\")\n",
        "print(f\"Melhor Avg WF Recovery Factor: {study.best_value:.2f}\")"
      ],
      "metadata": {
        "collapsed": true,
        "colab": {
          "base_uri": "https://localhost:8080/"
        },
        "id": "RhP1t0cMorlS",
        "outputId": "e9141331-f252-42e6-9fe8-6f8102997326"
      },
      "execution_count": 11,
      "outputs": [
        {
          "output_type": "stream",
          "name": "stdout",
          "text": [
            "Melhor parametrização encontrada:\n",
            "  ma_short: 20\n",
            "  ma_long: 60\n",
            "  rsi_period: 14\n",
            "  n_estimators: 100\n",
            "  max_depth: None\n",
            "Melhor Avg WF Recovery Factor: 4.48\n"
          ]
        }
      ]
    }
  ],
  "metadata": {
    "kernelspec": {
      "display_name": "Python 3",
      "language": "python",
      "name": "python3"
    },
    "language_info": {
      "codemirror_mode": {
        "name": "ipython",
        "version": 3
      },
      "file_extension": ".py",
      "mimetype": "text/x-python",
      "name": "python",
      "nbconvert_exporter": "python",
      "pygments_lexer": "ipython3",
      "version": "3.7.3"
    },
    "colab": {
      "provenance": [],
      "include_colab_link": true
    }
  },
  "nbformat": 4,
  "nbformat_minor": 0
}