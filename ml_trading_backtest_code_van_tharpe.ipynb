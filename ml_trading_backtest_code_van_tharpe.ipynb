{
  "cells": [
    {
      "cell_type": "markdown",
      "metadata": {
        "id": "view-in-github",
        "colab_type": "text"
      },
      "source": [
        "<a href=\"https://colab.research.google.com/github/souzamichel/ml_trading_test_code/blob/main/ml_trading_backtest_code_van_tharpe.ipynb\" target=\"_parent\"><img src=\"https://colab.research.google.com/assets/colab-badge.svg\" alt=\"Open In Colab\"/></a>"
      ]
    },
    {
      "cell_type": "code",
      "source": [
        "# 0) Instalação de dependências\n",
        "!pip install --quiet yfinance optuna"
      ],
      "metadata": {
        "id": "tsoiuA9C_7Ik"
      },
      "execution_count": 40,
      "outputs": []
    },
    {
      "cell_type": "code",
      "source": [
        "# 1) Imports\n",
        "import numpy as np\n",
        "import pandas as pd\n",
        "import yfinance as yf\n",
        "import optuna\n",
        "from joblib import Parallel, delayed\n",
        "from sklearn.model_selection import TimeSeriesSplit\n",
        "import matplotlib.pyplot as plt"
      ],
      "metadata": {
        "id": "ry-woJxXYV3h"
      },
      "execution_count": 41,
      "outputs": []
    },
    {
      "cell_type": "code",
      "source": [
        "# 2) Baixa dados históricos (AAPL 5 anos diários)\n",
        "symbol = \"AAPL\"\n",
        "df = yf.download(symbol, period=\"2y\", interval=\"60m\", progress=False)\n",
        "if \"Close\" not in df.columns and \"Adj Close\" in df.columns:\n",
        "    df.rename(columns={\"Adj Close\": \"Close\"}, inplace=True)\n",
        "#df.dropna(subset=[\"Adj Close\"], inplace=True)"
      ],
      "metadata": {
        "id": "Vg0ti4XpYdsi",
        "outputId": "99009660-e59b-41cd-952e-75dc300da741",
        "colab": {
          "base_uri": "https://localhost:8080/"
        }
      },
      "execution_count": 52,
      "outputs": [
        {
          "output_type": "stream",
          "name": "stderr",
          "text": [
            "/tmp/ipython-input-52-4024152777.py:3: FutureWarning: YF.download() has changed argument auto_adjust default to True\n",
            "  df = yf.download(symbol, period=\"2y\", interval=\"60m\", progress=False)\n"
          ]
        }
      ]
    },
    {
      "cell_type": "code",
      "source": [
        "\n",
        "# 3) Função que simula estratégia canal + trailing stop (retorna série de lucros diários)\n",
        "def simulate_channel(data, breakout, trailing):\n",
        "    prices = data[\"Close\"].to_numpy()\n",
        "    n = len(prices)\n",
        "    profits = np.zeros(n, dtype=float)\n",
        "    pos = 0      # 0 = neutro, 1 = comprado, -1 = vendido\n",
        "    entry = 0.0\n",
        "    trail = 0.0\n",
        "\n",
        "    for i in range(n):\n",
        "        price = prices[i]\n",
        "        if i < breakout:\n",
        "            continue\n",
        "        window = prices[i-breakout:i]\n",
        "        high_ch, low_ch = window.max(), window.min()\n",
        "\n",
        "        lo = max(0, i-trailing+1)\n",
        "        tw = prices[lo:i+1]\n",
        "        trail_high, trail_low = tw.max(), tw.min()\n",
        "\n",
        "        ret = 0.0\n",
        "        if pos == 0:\n",
        "            if price > high_ch:\n",
        "                pos, entry, trail = 1, price, trail_low\n",
        "            elif price < low_ch:\n",
        "                pos, entry, trail = -1, price, trail_high\n",
        "        elif pos == 1:\n",
        "            trail = max(trail, trail_low)\n",
        "            if price < trail:\n",
        "                ret, pos = price - entry, 0\n",
        "        else:  # pos == -1\n",
        "            trail = min(trail, trail_high)\n",
        "            if price > trail:\n",
        "                ret, pos = entry - price, 0\n",
        "\n",
        "        profits[i] = ret\n",
        "\n",
        "    return pd.Series(profits, index=data.index)"
      ],
      "metadata": {
        "id": "0mhJo-b8_OGU"
      },
      "execution_count": 43,
      "outputs": []
    },
    {
      "cell_type": "code",
      "source": [
        "# 4) Avaliação de um fold (soma dos lucros)\n",
        "def eval_fold(data, train_idx, test_idx, breakout, trailing):\n",
        "    test_df = data.iloc[test_idx]\n",
        "    prof = simulate_channel(test_df, breakout, trailing)\n",
        "    return prof.sum()"
      ],
      "metadata": {
        "id": "n6263uwe_PwG"
      },
      "execution_count": 44,
      "outputs": []
    },
    {
      "cell_type": "code",
      "source": [
        "# 5) Função-objetivo para Optuna\n",
        "def objective(trial):\n",
        "    b = trial.suggest_int(\"breakout\", 20, 400)\n",
        "    t = trial.suggest_int(\"trailing\", 2, b)\n",
        "\n",
        "    tss = TimeSeriesSplit(n_splits=5)\n",
        "    folds = list(tss.split(df))\n",
        "\n",
        "    scores = Parallel(n_jobs=-1)(\n",
        "        delayed(eval_fold)(df, tr, te, b, t) for tr, te in folds\n",
        "    )\n",
        "    return float(np.mean(scores))"
      ],
      "metadata": {
        "id": "6vipfFPJ_Qx-"
      },
      "execution_count": 45,
      "outputs": []
    },
    {
      "cell_type": "code",
      "source": [
        "# 6) Executa otimização\n",
        "study = optuna.create_study(direction=\"maximize\")\n",
        "study.optimize(objective, n_trials=30, timeout=300)"
      ],
      "metadata": {
        "id": "zmocaGmO_Vh-",
        "outputId": "d3103c57-e9c8-4ecc-8b96-d7070abc9bc3",
        "colab": {
          "base_uri": "https://localhost:8080/"
        }
      },
      "execution_count": 46,
      "outputs": [
        {
          "output_type": "stream",
          "name": "stderr",
          "text": [
            "[I 2025-07-27 22:31:56,708] A new study created in memory with name: no-name-e0854b3b-f439-43a1-a820-305ace0a9782\n",
            "[I 2025-07-27 22:31:56,767] Trial 0 finished with value: -0.3201934814453125 and parameters: {'breakout': 50, 'trailing': 14}. Best is trial 0 with value: -0.3201934814453125.\n",
            "[I 2025-07-27 22:31:56,828] Trial 1 finished with value: -8.003695678710937 and parameters: {'breakout': 21, 'trailing': 10}. Best is trial 0 with value: -0.3201934814453125.\n",
            "[I 2025-07-27 22:31:56,886] Trial 2 finished with value: -6.342437744140625 and parameters: {'breakout': 34, 'trailing': 34}. Best is trial 0 with value: -0.3201934814453125.\n",
            "[I 2025-07-27 22:31:56,948] Trial 3 finished with value: -12.849502563476562 and parameters: {'breakout': 20, 'trailing': 12}. Best is trial 0 with value: -0.3201934814453125.\n",
            "[I 2025-07-27 22:31:57,011] Trial 4 finished with value: -1.1140716552734375 and parameters: {'breakout': 50, 'trailing': 15}. Best is trial 0 with value: -0.3201934814453125.\n",
            "[I 2025-07-27 22:31:57,079] Trial 5 finished with value: -15.399920654296874 and parameters: {'breakout': 9, 'trailing': 3}. Best is trial 0 with value: -0.3201934814453125.\n",
            "[I 2025-07-27 22:31:57,146] Trial 6 finished with value: -1.1367218017578125 and parameters: {'breakout': 42, 'trailing': 6}. Best is trial 0 with value: -0.3201934814453125.\n",
            "[I 2025-07-27 22:31:57,220] Trial 7 finished with value: -5.084628295898438 and parameters: {'breakout': 59, 'trailing': 36}. Best is trial 0 with value: -0.3201934814453125.\n",
            "[I 2025-07-27 22:31:57,293] Trial 8 finished with value: 4.89468994140625 and parameters: {'breakout': 51, 'trailing': 25}. Best is trial 8 with value: 4.89468994140625.\n",
            "[I 2025-07-27 22:31:57,352] Trial 9 finished with value: 0.19820556640625 and parameters: {'breakout': 38, 'trailing': 18}. Best is trial 8 with value: 4.89468994140625.\n",
            "[I 2025-07-27 22:31:57,423] Trial 10 finished with value: -7.721710205078125 and parameters: {'breakout': 55, 'trailing': 53}. Best is trial 8 with value: 4.89468994140625.\n",
            "[I 2025-07-27 22:31:57,537] Trial 11 finished with value: 3.4207244873046876 and parameters: {'breakout': 38, 'trailing': 24}. Best is trial 8 with value: 4.89468994140625.\n",
            "[I 2025-07-27 22:31:57,670] Trial 12 finished with value: 6.0533447265625 and parameters: {'breakout': 43, 'trailing': 26}. Best is trial 12 with value: 6.0533447265625.\n",
            "[I 2025-07-27 22:31:57,799] Trial 13 finished with value: 0.6597564697265625 and parameters: {'breakout': 46, 'trailing': 28}. Best is trial 12 with value: 6.0533447265625.\n",
            "[I 2025-07-27 22:31:57,870] Trial 14 finished with value: 2.54991455078125 and parameters: {'breakout': 28, 'trailing': 21}. Best is trial 12 with value: 6.0533447265625.\n",
            "[I 2025-07-27 22:31:57,942] Trial 15 finished with value: -4.611972045898438 and parameters: {'breakout': 59, 'trailing': 42}. Best is trial 12 with value: 6.0533447265625.\n",
            "[I 2025-07-27 22:31:58,011] Trial 16 finished with value: 0.6597564697265625 and parameters: {'breakout': 46, 'trailing': 28}. Best is trial 12 with value: 6.0533447265625.\n",
            "[I 2025-07-27 22:31:58,080] Trial 17 finished with value: -3.9292633056640627 and parameters: {'breakout': 28, 'trailing': 20}. Best is trial 12 with value: 6.0533447265625.\n",
            "[I 2025-07-27 22:31:58,190] Trial 18 finished with value: 1.98294677734375 and parameters: {'breakout': 52, 'trailing': 34}. Best is trial 12 with value: 6.0533447265625.\n",
            "[I 2025-07-27 22:31:58,323] Trial 19 finished with value: 4.111883544921875 and parameters: {'breakout': 44, 'trailing': 25}. Best is trial 12 with value: 6.0533447265625.\n",
            "[I 2025-07-27 22:31:58,464] Trial 20 finished with value: 2.1526763916015623 and parameters: {'breakout': 39, 'trailing': 28}. Best is trial 12 with value: 6.0533447265625.\n",
            "[I 2025-07-27 22:31:58,544] Trial 21 finished with value: 5.000244140625 and parameters: {'breakout': 45, 'trailing': 25}. Best is trial 12 with value: 6.0533447265625.\n",
            "[I 2025-07-27 22:31:58,639] Trial 22 finished with value: -1.4941253662109375 and parameters: {'breakout': 54, 'trailing': 40}. Best is trial 12 with value: 6.0533447265625.\n",
            "[I 2025-07-27 22:31:58,716] Trial 23 finished with value: -2.983343505859375 and parameters: {'breakout': 32, 'trailing': 24}. Best is trial 12 with value: 6.0533447265625.\n",
            "[I 2025-07-27 22:31:58,792] Trial 24 finished with value: -0.2672393798828125 and parameters: {'breakout': 48, 'trailing': 32}. Best is trial 12 with value: 6.0533447265625.\n",
            "[I 2025-07-27 22:31:58,861] Trial 25 finished with value: 4.716519165039062 and parameters: {'breakout': 40, 'trailing': 21}. Best is trial 12 with value: 6.0533447265625.\n",
            "[I 2025-07-27 22:31:58,932] Trial 26 finished with value: -3.298529052734375 and parameters: {'breakout': 56, 'trailing': 45}. Best is trial 12 with value: 6.0533447265625.\n",
            "[I 2025-07-27 22:31:59,001] Trial 27 finished with value: -1.8105255126953126 and parameters: {'breakout': 34, 'trailing': 26}. Best is trial 12 with value: 6.0533447265625.\n",
            "[I 2025-07-27 22:31:59,086] Trial 28 finished with value: -20.588882446289062 and parameters: {'breakout': 5, 'trailing': 1}. Best is trial 12 with value: 6.0533447265625.\n",
            "[I 2025-07-27 22:31:59,224] Trial 29 finished with value: 1.0083282470703125 and parameters: {'breakout': 49, 'trailing': 17}. Best is trial 12 with value: 6.0533447265625.\n"
          ]
        }
      ]
    },
    {
      "cell_type": "code",
      "source": [
        "# 7) Parâmetros ótimos\n",
        "best = study.best_params\n",
        "print(f\"Melhor breakout: {best['breakout']}, Melhor trailing: {best['trailing']}\")\n",
        "print(f\"Retorno médio por fold: {study.best_value:.2f}\")"
      ],
      "metadata": {
        "id": "6dSnGPxN_XA2",
        "outputId": "fa2a5427-012b-4790-8a8f-55cb95e4a779",
        "colab": {
          "base_uri": "https://localhost:8080/"
        }
      },
      "execution_count": 47,
      "outputs": [
        {
          "output_type": "stream",
          "name": "stdout",
          "text": [
            "Melhor breakout: 43, Melhor trailing: 26\n",
            "Retorno médio por fold: 6.05\n"
          ]
        }
      ]
    },
    {
      "cell_type": "code",
      "source": [
        "# 8) Backtest completo com os melhores parâmetros\n",
        "profits = simulate_channel(df, best['breakout'], best['trailing'])\n",
        "cum_profit = profits.cumsum()"
      ],
      "metadata": {
        "id": "ooSgCYBn_YHU",
        "outputId": "eb41ff82-c874-470b-ea8d-4f8d53e7cb32",
        "colab": {
          "base_uri": "https://localhost:8080/"
        }
      },
      "execution_count": 48,
      "outputs": [
        {
          "output_type": "stream",
          "name": "stderr",
          "text": [
            "/tmp/ipython-input-43-1291313397.py:36: DeprecationWarning: Conversion of an array with ndim > 0 to a scalar is deprecated, and will error in future. Ensure you extract a single element from your array before performing this operation. (Deprecated NumPy 1.25.)\n",
            "  profits[i] = ret\n"
          ]
        }
      ]
    },
    {
      "cell_type": "code",
      "source": [
        "# 9) Plot do retorno acumulado\n",
        "plt.figure(figsize=(12,6))\n",
        "plt.plot(cum_profit.index, cum_profit.values, color=\"blue\", lw=2)\n",
        "plt.title(f\"Backtest Final: breakout={best['breakout']}, trailing={best['trailing']}\", fontsize=14)\n",
        "plt.xlabel(\"Data\")\n",
        "plt.ylabel(\"Lucro Acumulado\")\n",
        "plt.grid(True)\n",
        "plt.tight_layout()\n",
        "plt.show()"
      ],
      "metadata": {
        "id": "cOV5JnQq_ZTn",
        "outputId": "6edf1967-bfce-4e92-b20d-f6e3f2f27547",
        "colab": {
          "base_uri": "https://localhost:8080/",
          "height": 607
        }
      },
      "execution_count": 49,
      "outputs": [
        {
          "output_type": "display_data",
          "data": {
            "text/plain": [
              "<Figure size 1200x600 with 1 Axes>"
            ],
            "image/png": "[encoded data removed]"
          },
          "metadata": {}
        }
      ]
    },
    {
      "cell_type": "code",
      "source": [
        "# 10) Lista de operações do melhor backtest\n",
        "def list_trades(data, breakout, trailing):\n",
        "    prices = data[\"Close\"].to_numpy()\n",
        "    dates  = data.index\n",
        "    pos = 0\n",
        "    entry_price = 0.0\n",
        "    entry_date = None\n",
        "    trail = 0.0\n",
        "    trades = []\n",
        "\n",
        "    for i in range(len(prices)):\n",
        "        price = prices[i]\n",
        "        if i < breakout:\n",
        "            continue\n",
        "\n",
        "        window = prices[i-breakout:i]\n",
        "        high_ch, low_ch = window.max(), window.min()\n",
        "\n",
        "        lo = max(0, i-trailing+1)\n",
        "        tw = prices[lo:i+1]\n",
        "        trail_high, trail_low = tw.max(), tw.min()\n",
        "\n",
        "        if pos == 0:\n",
        "            if price > high_ch:\n",
        "                pos, entry_price, entry_date, trail = 1, price, dates[i], trail_low\n",
        "            elif price < low_ch:\n",
        "                pos, entry_price, entry_date, trail = -1, price, dates[i], trail_high\n",
        "\n",
        "        elif pos == 1:\n",
        "            trail = max(trail, trail_low)\n",
        "            if price < trail:\n",
        "                pnl = price - entry_price\n",
        "                trades.append({\n",
        "                    \"Entry Date\": entry_date,\n",
        "                    \"Entry Price\": entry_price,\n",
        "                    \"Exit Date\": dates[i],\n",
        "                    \"Exit Price\": price,\n",
        "                    \"PnL\": pnl\n",
        "                })\n",
        "                pos = 0\n",
        "\n",
        "        else:  # pos == -1\n",
        "            trail = min(trail, trail_high)\n",
        "            if price > trail:\n",
        "                pnl = entry_price - price\n",
        "                trades.append({\n",
        "                    \"Entry Date\": entry_date,\n",
        "                    \"Entry Price\": entry_price,\n",
        "                    \"Exit Date\": dates[i],\n",
        "                    \"Exit Price\": price,\n",
        "                    \"PnL\": pnl\n",
        "                })\n",
        "                pos = 0\n",
        "\n",
        "    return pd.DataFrame(trades)\n",
        "\n",
        "# Gera DataFrame com todas as operações\n",
        "trades_df = list_trades(df, best['breakout'], best['trailing'])\n",
        "print(\"\\nOperações realizadas no melhor backtest:\")\n",
        "print(trades_df)\n",
        "\n",
        "# (Opcional) Salva em CSV\n",
        "trades_df.to_csv(\"operacoes_backtest_van_tharp.csv\", index=False)\n",
        "print(\"\\nArquivo com operações salvo em 'operacoes_backtest_van_tharp.csv'\")"
      ],
      "metadata": {
        "id": "b_hlgS1SALTi",
        "outputId": "982ab897-585e-4757-80ed-d11187d9079e",
        "colab": {
          "base_uri": "https://localhost:8080/"
        }
      },
      "execution_count": 50,
      "outputs": [
        {
          "output_type": "stream",
          "name": "stdout",
          "text": [
            "\n",
            "Operações realizadas no melhor backtest:\n",
            "                  Entry Date           Entry Price                 Exit Date  \\\n",
            "0  2023-08-04 13:30:00+00:00  [185.11000061035156] 2023-08-22 18:30:00+00:00   \n",
            "1  2023-08-23 13:30:00+00:00  [180.10499572753906] 2023-09-06 13:30:00+00:00   \n",
            "2  2023-09-07 13:30:00+00:00              [176.25] 2023-09-18 14:30:00+00:00   \n",
            "3  2023-09-21 19:30:00+00:00  [173.92999267578125] 2023-10-02 13:30:00+00:00   \n",
            "4  2023-10-05 16:30:00+00:00       [174.158203125] 2023-10-16 15:30:00+00:00   \n",
            "5  2023-10-17 13:30:00+00:00   [176.4499969482422] 2023-10-31 18:30:00+00:00   \n",
            "6  2023-11-01 18:30:00+00:00  [173.91000366210938] 2023-11-27 14:30:00+00:00   \n",
            "7  2023-11-29 19:30:00+00:00  [189.01499938964844] 2023-12-01 16:30:00+00:00   \n",
            "8  2023-12-04 14:30:00+00:00  [188.16000366210938] 2023-12-05 14:30:00+00:00   \n",
            "9  2023-12-05 16:30:00+00:00  [193.75999450683594] 2023-12-11 14:30:00+00:00   \n",
            "10 2023-12-13 14:30:00+00:00   [196.5200958251953] 2023-12-20 20:30:00+00:00   \n",
            "11 2023-12-21 16:30:00+00:00   [194.0399932861328] 2024-01-08 19:30:00+00:00   \n",
            "12 2024-01-10 18:30:00+00:00             [185.625] 2024-01-16 14:30:00+00:00   \n",
            "13 2024-01-18 14:30:00+00:00  [187.45010375976562] 2024-01-26 16:30:00+00:00   \n",
            "14 2024-01-30 14:30:00+00:00   [189.9499969482422] 2024-02-05 16:30:00+00:00   \n",
            "15 2024-02-13 14:30:00+00:00  [185.47079467773438] 2024-02-22 17:30:00+00:00   \n",
            "16 2024-02-27 17:30:00+00:00  [180.06539916992188] 2024-03-12 17:30:00+00:00   \n",
            "17 2024-03-18 13:30:00+00:00  [177.35000610351562] 2024-03-21 17:30:00+00:00   \n",
            "18 2024-03-25 13:30:00+00:00   [170.0399932861328] 2024-03-27 18:30:00+00:00   \n",
            "19 2024-04-02 13:30:00+00:00   [169.0399932861328] 2024-04-11 15:30:00+00:00   \n",
            "20 2024-04-11 16:30:00+00:00  [172.10499572753906] 2024-04-17 15:30:00+00:00   \n",
            "21 2024-04-18 15:30:00+00:00  [167.56500244140625] 2024-04-24 13:30:00+00:00   \n",
            "22 2024-04-25 18:30:00+00:00  [169.93499755859375] 2024-05-23 13:30:00+00:00   \n",
            "23 2024-05-23 16:30:00+00:00  [188.64010620117188] 2024-05-29 13:30:00+00:00   \n",
            "24 2024-05-31 19:30:00+00:00  [192.47000122070312] 2024-06-10 17:30:00+00:00   \n",
            "25 2024-06-11 13:30:00+00:00  [200.89999389648438] 2024-06-20 13:30:00+00:00   \n",
            "26 2024-06-21 19:30:00+00:00  [207.11000061035156] 2024-06-26 14:30:00+00:00   \n",
            "27 2024-06-28 13:30:00+00:00  [214.63999938964844] 2024-07-18 14:30:00+00:00   \n",
            "28 2024-07-24 13:30:00+00:00  [220.88999938964844] 2024-07-31 13:30:00+00:00   \n",
            "29 2024-08-02 15:30:00+00:00   [224.6199951171875] 2024-08-05 13:30:00+00:00   \n",
            "30 2024-08-05 18:30:00+00:00  [206.42999267578125] 2024-08-09 13:30:00+00:00   \n",
            "31 2024-08-13 13:30:00+00:00               [221.0] 2024-09-03 13:30:00+00:00   \n",
            "32 2024-09-03 14:30:00+00:00  [223.85499572753906] 2024-09-11 19:30:00+00:00   \n",
            "33 2024-09-13 16:30:00+00:00  [223.58380126953125] 2024-09-16 13:30:00+00:00   \n",
            "34 2024-09-16 14:30:00+00:00  [216.55650329589844] 2024-09-19 13:30:00+00:00   \n",
            "35 2024-09-20 13:30:00+00:00   [230.0345001220703] 2024-09-25 14:30:00+00:00   \n",
            "36 2024-09-30 15:30:00+00:00   [232.1199951171875] 2024-10-01 16:30:00+00:00   \n",
            "37 2024-10-03 16:30:00+00:00   [223.8350067138672] 2024-10-09 13:30:00+00:00   \n",
            "38 2024-10-09 14:30:00+00:00  [228.19000244140625] 2024-10-23 15:30:00+00:00   \n",
            "39 2024-10-23 17:30:00+00:00   [228.6199951171875] 2024-11-07 14:30:00+00:00   \n",
            "40 2024-11-14 17:30:00+00:00  [228.47279357910156] 2024-12-30 14:30:00+00:00   \n",
            "41 2025-01-02 14:30:00+00:00  [245.73989868164062] 2025-01-27 14:30:00+00:00   \n",
            "42 2025-01-27 17:30:00+00:00  [231.32000732421875] 2025-01-31 19:30:00+00:00   \n",
            "43 2025-02-11 15:30:00+00:00  [234.64999389648438] 2025-02-26 14:30:00+00:00   \n",
            "44 2025-02-26 15:30:00+00:00  [241.80999755859375] 2025-03-07 17:30:00+00:00   \n",
            "45 2025-03-10 13:30:00+00:00   [228.5500030517578] 2025-03-19 13:30:00+00:00   \n",
            "46 2025-03-21 19:30:00+00:00  [218.36000061035156] 2025-03-28 15:30:00+00:00   \n",
            "47 2025-04-03 13:30:00+00:00  [205.63499450683594] 2025-04-09 18:30:00+00:00   \n",
            "48 2025-04-14 13:30:00+00:00              [204.75] 2025-04-21 13:30:00+00:00   \n",
            "49 2025-04-23 13:30:00+00:00  [206.80499267578125] 2025-05-02 13:30:00+00:00   \n",
            "50 2025-05-02 14:30:00+00:00   [204.9008026123047] 2025-05-12 13:30:00+00:00   \n",
            "51 2025-05-12 16:30:00+00:00  [209.93499755859375] 2025-05-19 13:30:00+00:00   \n",
            "52 2025-05-20 17:30:00+00:00  [205.58999633789062] 2025-06-02 17:30:00+00:00   \n",
            "53 2025-06-03 14:30:00+00:00               [202.5] 2025-06-05 19:30:00+00:00   \n",
            "54 2025-06-09 13:30:00+00:00  [205.32000732421875] 2025-06-11 15:30:00+00:00   \n",
            "55 2025-06-11 17:30:00+00:00  [199.23919677734375] 2025-06-20 13:30:00+00:00   \n",
            "56 2025-06-20 18:30:00+00:00  [199.92999267578125] 2025-07-09 14:30:00+00:00   \n",
            "\n",
            "              Exit Price                    PnL  \n",
            "0   [177.30999755859375]   [7.8000030517578125]  \n",
            "1    [184.1699981689453]     [4.06500244140625]  \n",
            "2   [177.80999755859375]    [-1.55999755859375]  \n",
            "3    [173.3300018310547]   [0.5999908447265625]  \n",
            "4   [177.82000732421875]     [3.66180419921875]  \n",
            "5   [170.64500427246094]     [5.80499267578125]  \n",
            "6   [189.05999755859375]   [15.149993896484375]  \n",
            "7   [191.44500732421875]  [-2.4300079345703125]  \n",
            "8   [193.58999633789062]    [-5.42999267578125]  \n",
            "9   [192.11000061035156]   [-1.649993896484375]  \n",
            "10  [194.83999633789062]  [-1.6800994873046875]  \n",
            "11  [185.22000122070312]    [8.819992065429688]  \n",
            "12  [182.75999450683594]  [-2.8650054931640625]  \n",
            "13  [193.72000122070312]      [6.2698974609375]  \n",
            "14  [188.42999267578125]   [1.5200042724609375]  \n",
            "15   [184.0399932861328]   [1.4308013916015625]  \n",
            "16  [173.79989624023438]      [6.2655029296875]  \n",
            "17   [171.0749969482422]  [-6.2750091552734375]  \n",
            "18  [172.99000549316406]    [-2.95001220703125]  \n",
            "19  [169.91000366210938]  [-0.8700103759765625]  \n",
            "20   [168.6999969482422]   [-3.404998779296875]  \n",
            "21   [167.9949951171875]    [-0.42999267578125]  \n",
            "22   [189.0500030517578]   [19.115005493164062]  \n",
            "23  [191.85000610351562]    [-3.20989990234375]  \n",
            "24  [193.16000366210938]     [0.69000244140625]  \n",
            "25   [211.6385955810547]   [10.738601684570312]  \n",
            "26   [213.2100067138672]   [-6.100006103515625]  \n",
            "27  [222.99000549316406]    [8.350006103515625]  \n",
            "28   [222.8300018310547]    [-1.94000244140625]  \n",
            "29  [207.97869873046875]   [-16.64129638671875]  \n",
            "30   [214.6999969482422]   [-8.270004272460938]  \n",
            "31  [225.30999755859375]     [4.30999755859375]  \n",
            "32  [222.86000061035156]      [0.9949951171875]  \n",
            "33  [216.66000366210938]   [-6.923797607421875]  \n",
            "34   [229.4949951171875]  [-12.938491821289062]  \n",
            "35   [225.4499969482422]   [-4.584503173828125]  \n",
            "36  [223.92999267578125]    [-8.19000244140625]  \n",
            "37  [227.10000610351562]  [-3.2649993896484375]  \n",
            "38  [229.69000244140625]                  [1.5]  \n",
            "39   [225.7335968017578]   [2.8863983154296875]  \n",
            "40   [250.9199981689453]    [22.44720458984375]  \n",
            "41  [227.29229736328125]   [18.447601318359375]  \n",
            "42   [234.2899932861328]   [2.9699859619140625]  \n",
            "43  [243.47999572753906]    [8.830001831054688]  \n",
            "44  [240.41439819335938]    [1.395599365234375]  \n",
            "45  [217.14500427246094]   [11.404998779296875]  \n",
            "46  [218.69000244140625]   [0.3300018310546875]  \n",
            "47  [196.05999755859375]    [9.574996948242188]  \n",
            "48   [192.1199951171875]    [-12.6300048828125]  \n",
            "49  [206.72000122070312]   [-0.084991455078125]  \n",
            "50  [209.16000366210938]  [-4.2592010498046875]  \n",
            "51  [206.61990356445312]   [-3.315093994140625]  \n",
            "52  [201.45399475097656]   [4.1360015869140625]  \n",
            "53   [200.5500030517578]  [-1.9499969482421875]  \n",
            "54   [200.2071075439453]  [-5.1128997802734375]  \n",
            "55  [198.67999267578125]      [0.5592041015625]  \n",
            "56  [207.80499267578125]                [7.875]  \n",
            "\n",
            "Arquivo com operações salvo em 'operacoes_backtest_van_tharp.csv'\n"
          ]
        }
      ]
    }
  ],
  "metadata": {
    "kernelspec": {
      "display_name": "Python 3",
      "language": "python",
      "name": "python3"
    },
    "language_info": {
      "codemirror_mode": {
        "name": "ipython",
        "version": 3
      },
      "file_extension": ".py",
      "mimetype": "text/x-python",
      "name": "python",
      "nbconvert_exporter": "python",
      "pygments_lexer": "ipython3",
      "version": "3.7.3"
    },
    "colab": {
      "provenance": [],
      "include_colab_link": true
    }
  },
  "nbformat": 4,
  "nbformat_minor": 0
}